{
 "cells": [
  {
   "cell_type": "markdown",
   "metadata": {},
   "source": [
    "# Tarea Redes Neuronales\n",
    "## Grupos de 3 personas\n",
    "### Entregas atrasadas pierden 1 punto por hora. Si alguien entrega a las 00:00:01 implica que pierde 1 punto en la nota final. Recomendación, entregue una versión inicial cerca de las 22 horas y luego suba las modificaciones.\n",
    "\n",
    "La NASA mantiene la información de varios cometas y quiere determinar alguna manera de predecir el diametro de un cometa. Específicamente, han analizado en forma manual una muestra de 100,000 asteroides. Los datos consisten en 26 variables, con distinta información como por ejemplo nombre del asteroide, su periodo orbital, su periodo de rotación, etc. Todos los datos existentes, se encuentran en un puro archivo llamado asteroidTrain.csv. Mientras que las descripciones de cada una de las variables se encuentran en el archivo tareaInformacion.txt\n",
    "\n",
    "Desafortunadamente, la NASA todavía no ha evaluado 37.681 asteroides y no tienen tiempo para realizarlo. Por lo mismo, le piden que aplique una red neuronal feed forward para obtener una predicción de estos asteroides.\n",
    "\n",
    "1. Lea los datos y borre las variables/asteroides que estime necesario. En caso que crea que la base de datos todavía es demasiado grande para aplicar una red neruonal, usted puede tomar una muestra de la misma. NOTA, justifique cada una de las decisiones tomadas, el puntaje principal se basa en las justificaciones. Una vez generado estos datos, guarde la base de datos final en un nuevo archivo csv (1.5 puntos).\n",
    "2. Entrene un modelo feed forward. Realice una busqueda de hiperparámetros incluyendo número de capas, número de  neuronas, funciones de activación, epocas, etc. Seleccione un modelo final (justificando a través de una evaluación correcta los hiperarametros seleccionados (2.5 puntos). NOTA, justifique cada una de las decisiones tomadas, el puntaje principal se basa en las justificaciones. \n",
    "3. Utilice el modelo seleccionado en el punto anterior y evalue los 37,681 asteroides que la NASA no ha evaluado. En este proceso genere un archivo csv de una sola columna con 37,681 filas donde cada celda tendrá el valor del cometa a predecir (2 puntos). Atención, si ustedes entrega un archivo con un número distinto de filas, de igual manera se evaluará las 37,681 filas.\n",
    "\n",
    "El punto de evaluación final será una competencia entre todas las tareas basados en los MSE más bajos y altos obtenido por cada grupo. El puntaje final será una regresión lineal entre un modelo muy básico y el mejor puntaje.\n",
    "\n",
    "Para esta entrega usted deberá entregar 4 archivos\n",
    "1. Un archivo ipynb que muestre todo el proceso de selección de variables y limpieza de datos aplicados. Además, deberá mostrar la búsqueda de hiperparametros. Este archivo ya deberá haber sido ejecutado y cuando se cargué uno debera ver todo el proceso de ejecución. \n",
    "2. Un nuevo archivo CSV que contenga la base de datos luego de la limpieza generada en el primer punto de la tarea.\n",
    "3. Un archivo ipynb limpio que simplemente cargue la nueva base de datos, entrene el modelo con los hiperparametros seleccionados y genere el archivo csv con las 37,681 estimaciones. Este archivo permitirá ver la replicabilidad de su archivo csv. \n",
    "4. Un archivo csv con las 37,681 estimaciones realizadas para el modelo."
   ]
  },
  {
   "cell_type": "code",
   "execution_count": 16,
   "metadata": {},
   "outputs": [],
   "source": [
    "import numpy as np\n",
    "import pandas as pd\n",
    "from plotnine import *\n",
    "from IPython.display import display"
   ]
  },
  {
   "cell_type": "code",
   "execution_count": 17,
   "metadata": {},
   "outputs": [
    {
     "name": "stderr",
     "output_type": "stream",
     "text": [
      "C:\\Users\\matia\\AppData\\Local\\Temp\\ipykernel_15912\\3696243933.py:1: DtypeWarning: Columns (14,15) have mixed types. Specify dtype option on import or set low_memory=False.\n"
     ]
    },
    {
     "name": "stdout",
     "output_type": "stream",
     "text": [
      "<class 'pandas.core.frame.DataFrame'>\n",
      "RangeIndex: 100000 entries, 0 to 99999\n",
      "Data columns (total 27 columns):\n",
      " #   Column          Non-Null Count   Dtype  \n",
      "---  ------          --------------   -----  \n",
      " 0   full_name       100000 non-null  object \n",
      " 1   a               100000 non-null  float64\n",
      " 2   e               100000 non-null  float64\n",
      " 3   G               80 non-null      float64\n",
      " 4   i               100000 non-null  float64\n",
      " 5   om              100000 non-null  float64\n",
      " 6   w               100000 non-null  float64\n",
      " 7   q               100000 non-null  float64\n",
      " 8   ad              100000 non-null  float64\n",
      " 9   per_y           100000 non-null  float64\n",
      " 10  data_arc        99907 non-null   float64\n",
      " 11  condition_code  100000 non-null  float64\n",
      " 12  n_obs_used      100000 non-null  int64  \n",
      " 13  H               99459 non-null   float64\n",
      " 14  diameter        100000 non-null  object \n",
      " 15  extent          10 non-null      object \n",
      " 16  albedo          99122 non-null   float64\n",
      " 17  rot_per         8065 non-null    float64\n",
      " 18  GM              9 non-null       float64\n",
      " 19  BV              724 non-null     float64\n",
      " 20  UB              697 non-null     float64\n",
      " 21  IR              0 non-null       float64\n",
      " 22  spec_B          960 non-null     object \n",
      " 23  spec_T          698 non-null     object \n",
      " 24  neo             100000 non-null  object \n",
      " 25  pha             100000 non-null  object \n",
      " 26  moid            100000 non-null  float64\n",
      "dtypes: float64(19), int64(1), object(7)\n",
      "memory usage: 20.6+ MB\n"
     ]
    }
   ],
   "source": [
    "DF = pd.read_csv(\"asteroidTrain.csv\")\n",
    "DF.info()"
   ]
  },
  {
   "cell_type": "markdown",
   "metadata": {},
   "source": [
    "# Limpieza de Datos"
   ]
  },
  {
   "cell_type": "code",
   "execution_count": 18,
   "metadata": {},
   "outputs": [
    {
     "data": {
      "text/html": [
       "<div>\n",
       "<style scoped>\n",
       "    .dataframe tbody tr th:only-of-type {\n",
       "        vertical-align: middle;\n",
       "    }\n",
       "\n",
       "    .dataframe tbody tr th {\n",
       "        vertical-align: top;\n",
       "    }\n",
       "\n",
       "    .dataframe thead th {\n",
       "        text-align: right;\n",
       "    }\n",
       "</style>\n",
       "<table border=\"1\" class=\"dataframe\">\n",
       "  <thead>\n",
       "    <tr style=\"text-align: right;\">\n",
       "      <th></th>\n",
       "      <th>full_name</th>\n",
       "      <th>a</th>\n",
       "      <th>e</th>\n",
       "      <th>i</th>\n",
       "      <th>om</th>\n",
       "      <th>w</th>\n",
       "      <th>q</th>\n",
       "      <th>ad</th>\n",
       "      <th>per_y</th>\n",
       "      <th>condition_code</th>\n",
       "      <th>n_obs_used</th>\n",
       "      <th>diameter</th>\n",
       "      <th>neo</th>\n",
       "      <th>pha</th>\n",
       "      <th>moid</th>\n",
       "    </tr>\n",
       "  </thead>\n",
       "  <tbody>\n",
       "    <tr>\n",
       "      <th>0</th>\n",
       "      <td>97632 (2000 EL145)</td>\n",
       "      <td>3.069866</td>\n",
       "      <td>0.184417</td>\n",
       "      <td>3.620920</td>\n",
       "      <td>308.458533</td>\n",
       "      <td>249.570070</td>\n",
       "      <td>2.503729</td>\n",
       "      <td>3.636003</td>\n",
       "      <td>5.378824</td>\n",
       "      <td>0.0</td>\n",
       "      <td>614</td>\n",
       "      <td>6.611</td>\n",
       "      <td>N</td>\n",
       "      <td>N</td>\n",
       "      <td>1.50522</td>\n",
       "    </tr>\n",
       "    <tr>\n",
       "      <th>1</th>\n",
       "      <td>49808 (1999 XD40)</td>\n",
       "      <td>2.386539</td>\n",
       "      <td>0.104566</td>\n",
       "      <td>13.003513</td>\n",
       "      <td>105.866881</td>\n",
       "      <td>329.104052</td>\n",
       "      <td>2.136988</td>\n",
       "      <td>2.636089</td>\n",
       "      <td>3.686897</td>\n",
       "      <td>0.0</td>\n",
       "      <td>1247</td>\n",
       "      <td>4.255</td>\n",
       "      <td>N</td>\n",
       "      <td>N</td>\n",
       "      <td>1.16197</td>\n",
       "    </tr>\n",
       "    <tr>\n",
       "      <th>2</th>\n",
       "      <td>390390 (2013 WC84)</td>\n",
       "      <td>3.018175</td>\n",
       "      <td>0.084529</td>\n",
       "      <td>14.247933</td>\n",
       "      <td>245.449168</td>\n",
       "      <td>115.242451</td>\n",
       "      <td>2.763053</td>\n",
       "      <td>3.273297</td>\n",
       "      <td>5.243544</td>\n",
       "      <td>0.0</td>\n",
       "      <td>181</td>\n",
       "      <td>5.625</td>\n",
       "      <td>N</td>\n",
       "      <td>N</td>\n",
       "      <td>1.79743</td>\n",
       "    </tr>\n",
       "    <tr>\n",
       "      <th>3</th>\n",
       "      <td>14319 (1978 US5)</td>\n",
       "      <td>2.793049</td>\n",
       "      <td>0.290215</td>\n",
       "      <td>16.677722</td>\n",
       "      <td>17.862425</td>\n",
       "      <td>287.769691</td>\n",
       "      <td>1.982465</td>\n",
       "      <td>3.603633</td>\n",
       "      <td>4.667948</td>\n",
       "      <td>0.0</td>\n",
       "      <td>955</td>\n",
       "      <td>4.224</td>\n",
       "      <td>N</td>\n",
       "      <td>N</td>\n",
       "      <td>1.04034</td>\n",
       "    </tr>\n",
       "    <tr>\n",
       "      <th>4</th>\n",
       "      <td>321079 (2008 SW97)</td>\n",
       "      <td>2.721394</td>\n",
       "      <td>0.098602</td>\n",
       "      <td>1.975506</td>\n",
       "      <td>271.706257</td>\n",
       "      <td>248.448520</td>\n",
       "      <td>2.453059</td>\n",
       "      <td>2.989728</td>\n",
       "      <td>4.489472</td>\n",
       "      <td>0.0</td>\n",
       "      <td>251</td>\n",
       "      <td>3.525</td>\n",
       "      <td>N</td>\n",
       "      <td>N</td>\n",
       "      <td>1.46299</td>\n",
       "    </tr>\n",
       "    <tr>\n",
       "      <th>...</th>\n",
       "      <td>...</td>\n",
       "      <td>...</td>\n",
       "      <td>...</td>\n",
       "      <td>...</td>\n",
       "      <td>...</td>\n",
       "      <td>...</td>\n",
       "      <td>...</td>\n",
       "      <td>...</td>\n",
       "      <td>...</td>\n",
       "      <td>...</td>\n",
       "      <td>...</td>\n",
       "      <td>...</td>\n",
       "      <td>...</td>\n",
       "      <td>...</td>\n",
       "      <td>...</td>\n",
       "    </tr>\n",
       "    <tr>\n",
       "      <th>99995</th>\n",
       "      <td>376501 (2012 KN42)</td>\n",
       "      <td>3.161511</td>\n",
       "      <td>0.166092</td>\n",
       "      <td>28.442710</td>\n",
       "      <td>224.796987</td>\n",
       "      <td>2.422644</td>\n",
       "      <td>2.636410</td>\n",
       "      <td>3.686612</td>\n",
       "      <td>5.621475</td>\n",
       "      <td>0.0</td>\n",
       "      <td>112</td>\n",
       "      <td>5.946</td>\n",
       "      <td>N</td>\n",
       "      <td>N</td>\n",
       "      <td>1.62746</td>\n",
       "    </tr>\n",
       "    <tr>\n",
       "      <th>99996</th>\n",
       "      <td>322401 (2011 QC97)</td>\n",
       "      <td>2.715932</td>\n",
       "      <td>0.239266</td>\n",
       "      <td>16.789523</td>\n",
       "      <td>34.531718</td>\n",
       "      <td>44.097353</td>\n",
       "      <td>2.066102</td>\n",
       "      <td>3.365761</td>\n",
       "      <td>4.475963</td>\n",
       "      <td>0.0</td>\n",
       "      <td>201</td>\n",
       "      <td>4.724</td>\n",
       "      <td>N</td>\n",
       "      <td>N</td>\n",
       "      <td>1.11044</td>\n",
       "    </tr>\n",
       "    <tr>\n",
       "      <th>99997</th>\n",
       "      <td>410630 (2008 RD19)</td>\n",
       "      <td>3.188786</td>\n",
       "      <td>0.278970</td>\n",
       "      <td>15.177104</td>\n",
       "      <td>188.342499</td>\n",
       "      <td>255.934423</td>\n",
       "      <td>2.299209</td>\n",
       "      <td>4.078363</td>\n",
       "      <td>5.694376</td>\n",
       "      <td>0.0</td>\n",
       "      <td>141</td>\n",
       "      <td>4.148</td>\n",
       "      <td>N</td>\n",
       "      <td>N</td>\n",
       "      <td>1.36906</td>\n",
       "    </tr>\n",
       "    <tr>\n",
       "      <th>99998</th>\n",
       "      <td>81593 (2000 HC52)</td>\n",
       "      <td>2.754535</td>\n",
       "      <td>0.106028</td>\n",
       "      <td>8.758664</td>\n",
       "      <td>230.483443</td>\n",
       "      <td>34.567890</td>\n",
       "      <td>2.462477</td>\n",
       "      <td>3.046593</td>\n",
       "      <td>4.571730</td>\n",
       "      <td>0.0</td>\n",
       "      <td>835</td>\n",
       "      <td>2.749</td>\n",
       "      <td>N</td>\n",
       "      <td>N</td>\n",
       "      <td>1.45246</td>\n",
       "    </tr>\n",
       "    <tr>\n",
       "      <th>99999</th>\n",
       "      <td>3990 Heimdal (1987 SO3)</td>\n",
       "      <td>3.940892</td>\n",
       "      <td>0.241022</td>\n",
       "      <td>9.495628</td>\n",
       "      <td>192.657992</td>\n",
       "      <td>197.808221</td>\n",
       "      <td>2.991051</td>\n",
       "      <td>4.890732</td>\n",
       "      <td>7.823479</td>\n",
       "      <td>0.0</td>\n",
       "      <td>2036</td>\n",
       "      <td>35.679</td>\n",
       "      <td>N</td>\n",
       "      <td>N</td>\n",
       "      <td>1.99740</td>\n",
       "    </tr>\n",
       "  </tbody>\n",
       "</table>\n",
       "<p>100000 rows × 15 columns</p>\n",
       "</div>"
      ],
      "text/plain": [
       "                       full_name         a         e          i          om  \\\n",
       "0             97632 (2000 EL145)  3.069866  0.184417   3.620920  308.458533   \n",
       "1              49808 (1999 XD40)  2.386539  0.104566  13.003513  105.866881   \n",
       "2             390390 (2013 WC84)  3.018175  0.084529  14.247933  245.449168   \n",
       "3               14319 (1978 US5)  2.793049  0.290215  16.677722   17.862425   \n",
       "4             321079 (2008 SW97)  2.721394  0.098602   1.975506  271.706257   \n",
       "...                          ...       ...       ...        ...         ...   \n",
       "99995         376501 (2012 KN42)  3.161511  0.166092  28.442710  224.796987   \n",
       "99996         322401 (2011 QC97)  2.715932  0.239266  16.789523   34.531718   \n",
       "99997         410630 (2008 RD19)  3.188786  0.278970  15.177104  188.342499   \n",
       "99998          81593 (2000 HC52)  2.754535  0.106028   8.758664  230.483443   \n",
       "99999    3990 Heimdal (1987 SO3)  3.940892  0.241022   9.495628  192.657992   \n",
       "\n",
       "                w         q        ad     per_y  condition_code  n_obs_used  \\\n",
       "0      249.570070  2.503729  3.636003  5.378824             0.0         614   \n",
       "1      329.104052  2.136988  2.636089  3.686897             0.0        1247   \n",
       "2      115.242451  2.763053  3.273297  5.243544             0.0         181   \n",
       "3      287.769691  1.982465  3.603633  4.667948             0.0         955   \n",
       "4      248.448520  2.453059  2.989728  4.489472             0.0         251   \n",
       "...           ...       ...       ...       ...             ...         ...   \n",
       "99995    2.422644  2.636410  3.686612  5.621475             0.0         112   \n",
       "99996   44.097353  2.066102  3.365761  4.475963             0.0         201   \n",
       "99997  255.934423  2.299209  4.078363  5.694376             0.0         141   \n",
       "99998   34.567890  2.462477  3.046593  4.571730             0.0         835   \n",
       "99999  197.808221  2.991051  4.890732  7.823479             0.0        2036   \n",
       "\n",
       "      diameter neo pha     moid  \n",
       "0        6.611   N   N  1.50522  \n",
       "1        4.255   N   N  1.16197  \n",
       "2        5.625   N   N  1.79743  \n",
       "3        4.224   N   N  1.04034  \n",
       "4        3.525   N   N  1.46299  \n",
       "...        ...  ..  ..      ...  \n",
       "99995    5.946   N   N  1.62746  \n",
       "99996    4.724   N   N  1.11044  \n",
       "99997    4.148   N   N  1.36906  \n",
       "99998    2.749   N   N  1.45246  \n",
       "99999   35.679   N   N  1.99740  \n",
       "\n",
       "[100000 rows x 15 columns]"
      ]
     },
     "execution_count": 18,
     "metadata": {},
     "output_type": "execute_result"
    }
   ],
   "source": [
    "# Todo: Justificar la eliminación de las variables con nulos\n",
    "df=DF.dropna(axis=1)\n",
    "df"
   ]
  },
  {
   "cell_type": "markdown",
   "metadata": {},
   "source": [
    "# Selección de Variables\n",
    "\n",
    "Dado que estas columnas permiten la comprensión detallada de los asteroides en relación al planeta tierra, son las que consideramos que mejor permiten analizar y predecir los diametros de los asteroides.\n",
    "\n",
    "1. __a:__ semi-major axis(au) = diámetro más largo\n",
    "\n",
    "2. __e:__ eccentricity = un parámetro que cuantifica la manera en que su órbita alrededor de otro cuerpo se desvía de una circunferencia perfecta\n",
    "\n",
    "3. __i:__ Inclination with respect to x-y ecliptic plane(deg) = es el ángulo que forma el plano de la órbita (plano orbital) de un astro con respecto a un plano de referencia\n",
    "\n",
    "4. __om:__ Longitude of the ascending node = especificar la órbita de un objeto en el espacio\n",
    "\n",
    "5. __w:__ argument of perihelionl ángulo que va desde el nodo ascendente hasta el periastro, medido en el plano\n",
    "\n",
    "6. __q:__ perihelion distance(au) = El punto de menor distancia  de una órbita elíptica a su centro de atracción\n",
    "\n",
    "7. __ad:__ aphelion distance(au) =  el punto de mayor distancia de una órbita elíptica a su centro de atracción\n",
    "\n",
    "8. __per_y:__ Orbital period = tiempo que le toma a un astro recorrer su órbita.\n",
    "\n",
    "9. __n_obs_used:__ number of observations used = observasiones realizadas\n",
    "\n",
    "10. __moid:__ Earth Minimum orbit Intersection Distance(au) = distancia en que sera interceptado por la orbita terrestre"
   ]
  },
  {
   "cell_type": "code",
   "execution_count": 19,
   "metadata": {},
   "outputs": [],
   "source": [
    "df = df.drop(columns=['neo', 'pha', 'full_name', 'condition_code'])"
   ]
  },
  {
   "cell_type": "code",
   "execution_count": 20,
   "metadata": {},
   "outputs": [],
   "source": [
    "df.to_csv('asteroidEXP.csv')"
   ]
  },
  {
   "cell_type": "code",
   "execution_count": 9,
   "metadata": {},
   "outputs": [],
   "source": [
    "target = df['diameter'].to_frame()\n",
    "df = df.drop(\"diameter\", axis=1)"
   ]
  },
  {
   "cell_type": "code",
   "execution_count": 10,
   "metadata": {},
   "outputs": [],
   "source": [
    "target = target.astype(float)"
   ]
  },
  {
   "cell_type": "markdown",
   "metadata": {},
   "source": [
    "# Variables Finales"
   ]
  },
  {
   "cell_type": "code",
   "execution_count": 11,
   "metadata": {},
   "outputs": [
    {
     "name": "stdout",
     "output_type": "stream",
     "text": [
      "<class 'pandas.core.frame.DataFrame'>\n",
      "RangeIndex: 100000 entries, 0 to 99999\n",
      "Data columns (total 10 columns):\n",
      " #   Column      Non-Null Count   Dtype  \n",
      "---  ------      --------------   -----  \n",
      " 0   a           100000 non-null  float64\n",
      " 1   e           100000 non-null  float64\n",
      " 2   i           100000 non-null  float64\n",
      " 3   om          100000 non-null  float64\n",
      " 4   w           100000 non-null  float64\n",
      " 5   q           100000 non-null  float64\n",
      " 6   ad          100000 non-null  float64\n",
      " 7   per_y       100000 non-null  float64\n",
      " 8   n_obs_used  100000 non-null  int64  \n",
      " 9   moid        100000 non-null  float64\n",
      "dtypes: float64(9), int64(1)\n",
      "memory usage: 7.6 MB\n"
     ]
    }
   ],
   "source": [
    "df.info()"
   ]
  },
  {
   "cell_type": "code",
   "execution_count": 12,
   "metadata": {},
   "outputs": [
    {
     "data": {
      "text/html": [
       "<div>\n",
       "<style scoped>\n",
       "    .dataframe tbody tr th:only-of-type {\n",
       "        vertical-align: middle;\n",
       "    }\n",
       "\n",
       "    .dataframe tbody tr th {\n",
       "        vertical-align: top;\n",
       "    }\n",
       "\n",
       "    .dataframe thead th {\n",
       "        text-align: right;\n",
       "    }\n",
       "</style>\n",
       "<table border=\"1\" class=\"dataframe\">\n",
       "  <thead>\n",
       "    <tr style=\"text-align: right;\">\n",
       "      <th></th>\n",
       "      <th>diameter</th>\n",
       "    </tr>\n",
       "  </thead>\n",
       "  <tbody>\n",
       "    <tr>\n",
       "      <th>0</th>\n",
       "      <td>6.611</td>\n",
       "    </tr>\n",
       "    <tr>\n",
       "      <th>1</th>\n",
       "      <td>4.255</td>\n",
       "    </tr>\n",
       "    <tr>\n",
       "      <th>2</th>\n",
       "      <td>5.625</td>\n",
       "    </tr>\n",
       "    <tr>\n",
       "      <th>3</th>\n",
       "      <td>4.224</td>\n",
       "    </tr>\n",
       "    <tr>\n",
       "      <th>4</th>\n",
       "      <td>3.525</td>\n",
       "    </tr>\n",
       "    <tr>\n",
       "      <th>...</th>\n",
       "      <td>...</td>\n",
       "    </tr>\n",
       "    <tr>\n",
       "      <th>99995</th>\n",
       "      <td>5.946</td>\n",
       "    </tr>\n",
       "    <tr>\n",
       "      <th>99996</th>\n",
       "      <td>4.724</td>\n",
       "    </tr>\n",
       "    <tr>\n",
       "      <th>99997</th>\n",
       "      <td>4.148</td>\n",
       "    </tr>\n",
       "    <tr>\n",
       "      <th>99998</th>\n",
       "      <td>2.749</td>\n",
       "    </tr>\n",
       "    <tr>\n",
       "      <th>99999</th>\n",
       "      <td>35.679</td>\n",
       "    </tr>\n",
       "  </tbody>\n",
       "</table>\n",
       "<p>100000 rows × 1 columns</p>\n",
       "</div>"
      ],
      "text/plain": [
       "       diameter\n",
       "0         6.611\n",
       "1         4.255\n",
       "2         5.625\n",
       "3         4.224\n",
       "4         3.525\n",
       "...         ...\n",
       "99995     5.946\n",
       "99996     4.724\n",
       "99997     4.148\n",
       "99998     2.749\n",
       "99999    35.679\n",
       "\n",
       "[100000 rows x 1 columns]"
      ]
     },
     "metadata": {},
     "output_type": "display_data"
    },
    {
     "data": {
      "text/html": [
       "<div>\n",
       "<style scoped>\n",
       "    .dataframe tbody tr th:only-of-type {\n",
       "        vertical-align: middle;\n",
       "    }\n",
       "\n",
       "    .dataframe tbody tr th {\n",
       "        vertical-align: top;\n",
       "    }\n",
       "\n",
       "    .dataframe thead th {\n",
       "        text-align: right;\n",
       "    }\n",
       "</style>\n",
       "<table border=\"1\" class=\"dataframe\">\n",
       "  <thead>\n",
       "    <tr style=\"text-align: right;\">\n",
       "      <th></th>\n",
       "      <th>a</th>\n",
       "      <th>e</th>\n",
       "      <th>i</th>\n",
       "      <th>om</th>\n",
       "      <th>w</th>\n",
       "      <th>q</th>\n",
       "      <th>ad</th>\n",
       "      <th>per_y</th>\n",
       "      <th>n_obs_used</th>\n",
       "      <th>moid</th>\n",
       "    </tr>\n",
       "  </thead>\n",
       "  <tbody>\n",
       "    <tr>\n",
       "      <th>0</th>\n",
       "      <td>3.069866</td>\n",
       "      <td>0.184417</td>\n",
       "      <td>3.620920</td>\n",
       "      <td>308.458533</td>\n",
       "      <td>249.570070</td>\n",
       "      <td>2.503729</td>\n",
       "      <td>3.636003</td>\n",
       "      <td>5.378824</td>\n",
       "      <td>614</td>\n",
       "      <td>1.50522</td>\n",
       "    </tr>\n",
       "    <tr>\n",
       "      <th>1</th>\n",
       "      <td>2.386539</td>\n",
       "      <td>0.104566</td>\n",
       "      <td>13.003513</td>\n",
       "      <td>105.866881</td>\n",
       "      <td>329.104052</td>\n",
       "      <td>2.136988</td>\n",
       "      <td>2.636089</td>\n",
       "      <td>3.686897</td>\n",
       "      <td>1247</td>\n",
       "      <td>1.16197</td>\n",
       "    </tr>\n",
       "    <tr>\n",
       "      <th>2</th>\n",
       "      <td>3.018175</td>\n",
       "      <td>0.084529</td>\n",
       "      <td>14.247933</td>\n",
       "      <td>245.449168</td>\n",
       "      <td>115.242451</td>\n",
       "      <td>2.763053</td>\n",
       "      <td>3.273297</td>\n",
       "      <td>5.243544</td>\n",
       "      <td>181</td>\n",
       "      <td>1.79743</td>\n",
       "    </tr>\n",
       "    <tr>\n",
       "      <th>3</th>\n",
       "      <td>2.793049</td>\n",
       "      <td>0.290215</td>\n",
       "      <td>16.677722</td>\n",
       "      <td>17.862425</td>\n",
       "      <td>287.769691</td>\n",
       "      <td>1.982465</td>\n",
       "      <td>3.603633</td>\n",
       "      <td>4.667948</td>\n",
       "      <td>955</td>\n",
       "      <td>1.04034</td>\n",
       "    </tr>\n",
       "    <tr>\n",
       "      <th>4</th>\n",
       "      <td>2.721394</td>\n",
       "      <td>0.098602</td>\n",
       "      <td>1.975506</td>\n",
       "      <td>271.706257</td>\n",
       "      <td>248.448520</td>\n",
       "      <td>2.453059</td>\n",
       "      <td>2.989728</td>\n",
       "      <td>4.489472</td>\n",
       "      <td>251</td>\n",
       "      <td>1.46299</td>\n",
       "    </tr>\n",
       "    <tr>\n",
       "      <th>...</th>\n",
       "      <td>...</td>\n",
       "      <td>...</td>\n",
       "      <td>...</td>\n",
       "      <td>...</td>\n",
       "      <td>...</td>\n",
       "      <td>...</td>\n",
       "      <td>...</td>\n",
       "      <td>...</td>\n",
       "      <td>...</td>\n",
       "      <td>...</td>\n",
       "    </tr>\n",
       "    <tr>\n",
       "      <th>99995</th>\n",
       "      <td>3.161511</td>\n",
       "      <td>0.166092</td>\n",
       "      <td>28.442710</td>\n",
       "      <td>224.796987</td>\n",
       "      <td>2.422644</td>\n",
       "      <td>2.636410</td>\n",
       "      <td>3.686612</td>\n",
       "      <td>5.621475</td>\n",
       "      <td>112</td>\n",
       "      <td>1.62746</td>\n",
       "    </tr>\n",
       "    <tr>\n",
       "      <th>99996</th>\n",
       "      <td>2.715932</td>\n",
       "      <td>0.239266</td>\n",
       "      <td>16.789523</td>\n",
       "      <td>34.531718</td>\n",
       "      <td>44.097353</td>\n",
       "      <td>2.066102</td>\n",
       "      <td>3.365761</td>\n",
       "      <td>4.475963</td>\n",
       "      <td>201</td>\n",
       "      <td>1.11044</td>\n",
       "    </tr>\n",
       "    <tr>\n",
       "      <th>99997</th>\n",
       "      <td>3.188786</td>\n",
       "      <td>0.278970</td>\n",
       "      <td>15.177104</td>\n",
       "      <td>188.342499</td>\n",
       "      <td>255.934423</td>\n",
       "      <td>2.299209</td>\n",
       "      <td>4.078363</td>\n",
       "      <td>5.694376</td>\n",
       "      <td>141</td>\n",
       "      <td>1.36906</td>\n",
       "    </tr>\n",
       "    <tr>\n",
       "      <th>99998</th>\n",
       "      <td>2.754535</td>\n",
       "      <td>0.106028</td>\n",
       "      <td>8.758664</td>\n",
       "      <td>230.483443</td>\n",
       "      <td>34.567890</td>\n",
       "      <td>2.462477</td>\n",
       "      <td>3.046593</td>\n",
       "      <td>4.571730</td>\n",
       "      <td>835</td>\n",
       "      <td>1.45246</td>\n",
       "    </tr>\n",
       "    <tr>\n",
       "      <th>99999</th>\n",
       "      <td>3.940892</td>\n",
       "      <td>0.241022</td>\n",
       "      <td>9.495628</td>\n",
       "      <td>192.657992</td>\n",
       "      <td>197.808221</td>\n",
       "      <td>2.991051</td>\n",
       "      <td>4.890732</td>\n",
       "      <td>7.823479</td>\n",
       "      <td>2036</td>\n",
       "      <td>1.99740</td>\n",
       "    </tr>\n",
       "  </tbody>\n",
       "</table>\n",
       "<p>100000 rows × 10 columns</p>\n",
       "</div>"
      ],
      "text/plain": [
       "              a         e          i          om           w         q  \\\n",
       "0      3.069866  0.184417   3.620920  308.458533  249.570070  2.503729   \n",
       "1      2.386539  0.104566  13.003513  105.866881  329.104052  2.136988   \n",
       "2      3.018175  0.084529  14.247933  245.449168  115.242451  2.763053   \n",
       "3      2.793049  0.290215  16.677722   17.862425  287.769691  1.982465   \n",
       "4      2.721394  0.098602   1.975506  271.706257  248.448520  2.453059   \n",
       "...         ...       ...        ...         ...         ...       ...   \n",
       "99995  3.161511  0.166092  28.442710  224.796987    2.422644  2.636410   \n",
       "99996  2.715932  0.239266  16.789523   34.531718   44.097353  2.066102   \n",
       "99997  3.188786  0.278970  15.177104  188.342499  255.934423  2.299209   \n",
       "99998  2.754535  0.106028   8.758664  230.483443   34.567890  2.462477   \n",
       "99999  3.940892  0.241022   9.495628  192.657992  197.808221  2.991051   \n",
       "\n",
       "             ad     per_y  n_obs_used     moid  \n",
       "0      3.636003  5.378824         614  1.50522  \n",
       "1      2.636089  3.686897        1247  1.16197  \n",
       "2      3.273297  5.243544         181  1.79743  \n",
       "3      3.603633  4.667948         955  1.04034  \n",
       "4      2.989728  4.489472         251  1.46299  \n",
       "...         ...       ...         ...      ...  \n",
       "99995  3.686612  5.621475         112  1.62746  \n",
       "99996  3.365761  4.475963         201  1.11044  \n",
       "99997  4.078363  5.694376         141  1.36906  \n",
       "99998  3.046593  4.571730         835  1.45246  \n",
       "99999  4.890732  7.823479        2036  1.99740  \n",
       "\n",
       "[100000 rows x 10 columns]"
      ]
     },
     "metadata": {},
     "output_type": "display_data"
    }
   ],
   "source": [
    "display(target)\n",
    "display(df)"
   ]
  },
  {
   "cell_type": "markdown",
   "metadata": {},
   "source": [
    "## Busqueda de Hiperparámetros"
   ]
  },
  {
   "cell_type": "markdown",
   "metadata": {},
   "source": [
    "### Curva de Aprendizaje"
   ]
  },
  {
   "cell_type": "code",
   "execution_count": 11,
   "metadata": {
    "ExecuteTime": {
     "end_time": "2022-08-29T16:42:44.617437Z",
     "start_time": "2022-08-29T16:37:47.241979Z"
    }
   },
   "outputs": [
    {
     "name": "stderr",
     "output_type": "stream",
     "text": [
      "/home/parker/Documents/jupyter/lib64/python3.10/site-packages/sklearn/neural_network/_multilayer_perceptron.py:702: ConvergenceWarning: Stochastic Optimizer: Maximum iterations (1000) reached and the optimization hasn't converged yet.\n"
     ]
    }
   ],
   "source": [
    "numEpocas = 1000\n",
    "model = MLPRegressor(\n",
    "    hidden_layer_sizes=(10,10,10,10,10),\n",
    "    activation=\"relu\", \n",
    "    max_iter=numEpocas,\n",
    "    n_iter_no_change=numEpocas\n",
    ")\n",
    "model = model.fit(df,target[\"diameter\"])"
   ]
  },
  {
   "cell_type": "code",
   "execution_count": 12,
   "metadata": {
    "ExecuteTime": {
     "end_time": "2022-08-29T16:44:03.807908Z",
     "start_time": "2022-08-29T16:44:03.460697Z"
    }
   },
   "outputs": [
    {
     "data": {
      "image/png": "[encoded data removed]",
      "text/plain": [
       "<Figure size 432x288 with 1 Axes>"
      ]
     },
     "metadata": {},
     "output_type": "display_data"
    },
    {
     "data": {
      "text/plain": [
       "<ggplot: (8786701435148)>"
      ]
     },
     "execution_count": 12,
     "metadata": {},
     "output_type": "execute_result"
    }
   ],
   "source": [
    "#Curva de aprendizaje hora : 10:45\n",
    "tempDF=pd.DataFrame(model.loss_curve_,columns=[\"Error\"])\n",
    "tempDF[\"Epoca\"]=range(1,tempDF.shape[0]+1)\n",
    "ggplot(tempDF)+aes(x=\"Epoca\",y=\"Error\")+theme_bw()+geom_line()"
   ]
  },
  {
   "cell_type": "markdown",
   "metadata": {},
   "source": [
    "## Número de Capas y Cantidad de Neuronas por Capa"
   ]
  },
  {
   "cell_type": "markdown",
   "metadata": {},
   "source": [
    "### 3 Capas"
   ]
  },
  {
   "cell_type": "markdown",
   "metadata": {},
   "source": [
    "### 4 Capas"
   ]
  },
  {
   "cell_type": "markdown",
   "metadata": {},
   "source": [
    "#### Hidden Layers Sizes: (10,10,10,10)"
   ]
  },
  {
   "cell_type": "code",
   "execution_count": 14,
   "metadata": {
    "scrolled": true
   },
   "outputs": [
    {
     "name": "stderr",
     "output_type": "stream",
     "text": [
      "C:\\Users\\matia\\anaconda3\\lib\\site-packages\\sklearn\\neural_network\\_multilayer_perceptron.py:692: ConvergenceWarning: Stochastic Optimizer: Maximum iterations (1000) reached and the optimization hasn't converged yet.\n"
     ]
    },
    {
     "name": "stdout",
     "output_type": "stream",
     "text": [
      "1\n"
     ]
    },
    {
     "name": "stderr",
     "output_type": "stream",
     "text": [
      "C:\\Users\\matia\\anaconda3\\lib\\site-packages\\sklearn\\neural_network\\_multilayer_perceptron.py:692: ConvergenceWarning: Stochastic Optimizer: Maximum iterations (1000) reached and the optimization hasn't converged yet.\n"
     ]
    },
    {
     "name": "stdout",
     "output_type": "stream",
     "text": [
      "2\n"
     ]
    },
    {
     "name": "stderr",
     "output_type": "stream",
     "text": [
      "C:\\Users\\matia\\anaconda3\\lib\\site-packages\\sklearn\\neural_network\\_multilayer_perceptron.py:692: ConvergenceWarning: Stochastic Optimizer: Maximum iterations (1000) reached and the optimization hasn't converged yet.\n"
     ]
    },
    {
     "name": "stdout",
     "output_type": "stream",
     "text": [
      "3\n"
     ]
    },
    {
     "name": "stderr",
     "output_type": "stream",
     "text": [
      "C:\\Users\\matia\\anaconda3\\lib\\site-packages\\sklearn\\neural_network\\_multilayer_perceptron.py:692: ConvergenceWarning: Stochastic Optimizer: Maximum iterations (1000) reached and the optimization hasn't converged yet.\n"
     ]
    },
    {
     "name": "stdout",
     "output_type": "stream",
     "text": [
      "4\n"
     ]
    },
    {
     "name": "stderr",
     "output_type": "stream",
     "text": [
      "C:\\Users\\matia\\anaconda3\\lib\\site-packages\\sklearn\\neural_network\\_multilayer_perceptron.py:692: ConvergenceWarning: Stochastic Optimizer: Maximum iterations (1000) reached and the optimization hasn't converged yet.\n"
     ]
    },
    {
     "name": "stdout",
     "output_type": "stream",
     "text": [
      "5\n"
     ]
    },
    {
     "name": "stderr",
     "output_type": "stream",
     "text": [
      "C:\\Users\\matia\\anaconda3\\lib\\site-packages\\sklearn\\neural_network\\_multilayer_perceptron.py:692: ConvergenceWarning: Stochastic Optimizer: Maximum iterations (1000) reached and the optimization hasn't converged yet.\n"
     ]
    },
    {
     "name": "stdout",
     "output_type": "stream",
     "text": [
      "6\n"
     ]
    },
    {
     "name": "stderr",
     "output_type": "stream",
     "text": [
      "C:\\Users\\matia\\anaconda3\\lib\\site-packages\\sklearn\\neural_network\\_multilayer_perceptron.py:692: ConvergenceWarning: Stochastic Optimizer: Maximum iterations (1000) reached and the optimization hasn't converged yet.\n"
     ]
    },
    {
     "name": "stdout",
     "output_type": "stream",
     "text": [
      "7\n"
     ]
    },
    {
     "name": "stderr",
     "output_type": "stream",
     "text": [
      "C:\\Users\\matia\\anaconda3\\lib\\site-packages\\sklearn\\neural_network\\_multilayer_perceptron.py:692: ConvergenceWarning: Stochastic Optimizer: Maximum iterations (1000) reached and the optimization hasn't converged yet.\n"
     ]
    },
    {
     "name": "stdout",
     "output_type": "stream",
     "text": [
      "8\n"
     ]
    },
    {
     "name": "stderr",
     "output_type": "stream",
     "text": [
      "C:\\Users\\matia\\anaconda3\\lib\\site-packages\\sklearn\\neural_network\\_multilayer_perceptron.py:692: ConvergenceWarning: Stochastic Optimizer: Maximum iterations (1000) reached and the optimization hasn't converged yet.\n"
     ]
    },
    {
     "name": "stdout",
     "output_type": "stream",
     "text": [
      "9\n",
      "10\n",
      "Average ACC train error:  38.63511222443602 +- 5.339506579097414\n",
      "Average ACC train error:  42.61719798585764 +- 24.492362384952333\n"
     ]
    },
    {
     "name": "stderr",
     "output_type": "stream",
     "text": [
      "C:\\Users\\matia\\anaconda3\\lib\\site-packages\\sklearn\\neural_network\\_multilayer_perceptron.py:692: ConvergenceWarning: Stochastic Optimizer: Maximum iterations (1000) reached and the optimization hasn't converged yet.\n"
     ]
    }
   ],
   "source": [
    "from sklearn.neural_network import MLPRegressor\n",
    "from sklearn import metrics as mt\n",
    "from sklearn.model_selection import KFold\n",
    "from sklearn.metrics import mean_squared_error\n",
    "\n",
    "numEpocas=1000\n",
    "\n",
    "TrainF1Score = []\n",
    "TestF1Score = []\n",
    "\n",
    "#Crear un objeto de KFold cross validation\n",
    "k = 10\n",
    "kf = KFold(n_splits = k, shuffle = True, random_state = 42)\n",
    "\n",
    "#Crear arreglos para guardar los errores de cada fold (tanto para entrenamiento como test).\n",
    "MSETrain = np.zeros(k)\n",
    "MSETest = np.zeros(k)\n",
    "index=0\n",
    "for train_index, test_index in kf.split(df):\n",
    "    model = MLPRegressor(hidden_layer_sizes=(10,10,10,10),activation=\"relu\", max_iter=numEpocas,n_iter_no_change=numEpocas, batch_size=256)\n",
    "    model = model.fit(df.iloc[train_index],target[\"diameter\"].iloc[train_index])\n",
    "    prediccion=model.predict(df.iloc[train_index])\n",
    "    MSETrain[index]=mean_squared_error(target[\"diameter\"].iloc[train_index],prediccion)\n",
    "    prediccion=model.predict(df.iloc[test_index])\n",
    "    MSETest[index]=mean_squared_error(target[\"diameter\"].iloc[test_index],prediccion)\n",
    "    \n",
    "    index = index + 1\n",
    "    print(index)\n",
    "    \n",
    "print(\"Average ACC train error: \",MSETrain.mean(),\"+-\",MSETrain.std())\n",
    "print(\"Average ACC train error: \",MSETest.mean(),\"+-\",MSETest.std())"
   ]
  },
  {
   "cell_type": "markdown",
   "metadata": {},
   "source": [
    "#### Hidden Layers Sizes: (30,30,30,30)"
   ]
  },
  {
   "cell_type": "code",
   "execution_count": 15,
   "metadata": {
    "scrolled": true
   },
   "outputs": [
    {
     "name": "stderr",
     "output_type": "stream",
     "text": [
      "C:\\Users\\matia\\anaconda3\\lib\\site-packages\\sklearn\\neural_network\\_multilayer_perceptron.py:692: ConvergenceWarning: Stochastic Optimizer: Maximum iterations (1000) reached and the optimization hasn't converged yet.\n"
     ]
    },
    {
     "name": "stdout",
     "output_type": "stream",
     "text": [
      "1\n"
     ]
    },
    {
     "name": "stderr",
     "output_type": "stream",
     "text": [
      "C:\\Users\\matia\\anaconda3\\lib\\site-packages\\sklearn\\neural_network\\_multilayer_perceptron.py:692: ConvergenceWarning: Stochastic Optimizer: Maximum iterations (1000) reached and the optimization hasn't converged yet.\n"
     ]
    },
    {
     "name": "stdout",
     "output_type": "stream",
     "text": [
      "2\n"
     ]
    },
    {
     "name": "stderr",
     "output_type": "stream",
     "text": [
      "C:\\Users\\matia\\anaconda3\\lib\\site-packages\\sklearn\\neural_network\\_multilayer_perceptron.py:692: ConvergenceWarning: Stochastic Optimizer: Maximum iterations (1000) reached and the optimization hasn't converged yet.\n"
     ]
    },
    {
     "name": "stdout",
     "output_type": "stream",
     "text": [
      "3\n"
     ]
    },
    {
     "name": "stderr",
     "output_type": "stream",
     "text": [
      "C:\\Users\\matia\\anaconda3\\lib\\site-packages\\sklearn\\neural_network\\_multilayer_perceptron.py:692: ConvergenceWarning: Stochastic Optimizer: Maximum iterations (1000) reached and the optimization hasn't converged yet.\n"
     ]
    },
    {
     "name": "stdout",
     "output_type": "stream",
     "text": [
      "4\n"
     ]
    },
    {
     "name": "stderr",
     "output_type": "stream",
     "text": [
      "C:\\Users\\matia\\anaconda3\\lib\\site-packages\\sklearn\\neural_network\\_multilayer_perceptron.py:692: ConvergenceWarning: Stochastic Optimizer: Maximum iterations (1000) reached and the optimization hasn't converged yet.\n"
     ]
    },
    {
     "name": "stdout",
     "output_type": "stream",
     "text": [
      "5\n"
     ]
    },
    {
     "name": "stderr",
     "output_type": "stream",
     "text": [
      "C:\\Users\\matia\\anaconda3\\lib\\site-packages\\sklearn\\neural_network\\_multilayer_perceptron.py:692: ConvergenceWarning: Stochastic Optimizer: Maximum iterations (1000) reached and the optimization hasn't converged yet.\n"
     ]
    },
    {
     "name": "stdout",
     "output_type": "stream",
     "text": [
      "6\n"
     ]
    },
    {
     "name": "stderr",
     "output_type": "stream",
     "text": [
      "C:\\Users\\matia\\anaconda3\\lib\\site-packages\\sklearn\\neural_network\\_multilayer_perceptron.py:692: ConvergenceWarning: Stochastic Optimizer: Maximum iterations (1000) reached and the optimization hasn't converged yet.\n"
     ]
    },
    {
     "name": "stdout",
     "output_type": "stream",
     "text": [
      "7\n"
     ]
    },
    {
     "name": "stderr",
     "output_type": "stream",
     "text": [
      "C:\\Users\\matia\\anaconda3\\lib\\site-packages\\sklearn\\neural_network\\_multilayer_perceptron.py:692: ConvergenceWarning: Stochastic Optimizer: Maximum iterations (1000) reached and the optimization hasn't converged yet.\n"
     ]
    },
    {
     "name": "stdout",
     "output_type": "stream",
     "text": [
      "8\n"
     ]
    },
    {
     "name": "stderr",
     "output_type": "stream",
     "text": [
      "C:\\Users\\matia\\anaconda3\\lib\\site-packages\\sklearn\\neural_network\\_multilayer_perceptron.py:692: ConvergenceWarning: Stochastic Optimizer: Maximum iterations (1000) reached and the optimization hasn't converged yet.\n"
     ]
    },
    {
     "name": "stdout",
     "output_type": "stream",
     "text": [
      "9\n"
     ]
    },
    {
     "name": "stderr",
     "output_type": "stream",
     "text": [
      "C:\\Users\\matia\\anaconda3\\lib\\site-packages\\sklearn\\neural_network\\_multilayer_perceptron.py:692: ConvergenceWarning: Stochastic Optimizer: Maximum iterations (1000) reached and the optimization hasn't converged yet.\n"
     ]
    },
    {
     "name": "stdout",
     "output_type": "stream",
     "text": [
      "10\n",
      "Average MSE train error:  38.65884403958572 +- 2.824389497457345\n",
      "Average MSE train error:  43.62533668061957 +- 26.086680898480328\n"
     ]
    }
   ],
   "source": [
    "from sklearn.neural_network import MLPRegressor\n",
    "from sklearn import metrics as mt\n",
    "from sklearn.model_selection import KFold\n",
    "from sklearn.metrics import mean_squared_error\n",
    "\n",
    "numEpocas=1000\n",
    "\n",
    "#Crear un objeto de KFold cross validation\n",
    "k = 10\n",
    "kf = KFold(n_splits = k, shuffle = True, random_state = 42)\n",
    "\n",
    "#Crear arreglos para guardar los errores de cada fold (tanto para entrenamiento como test).\n",
    "MSETrain = np.zeros(k)\n",
    "MSETest = np.zeros(k)\n",
    "index=0\n",
    "for train_index, test_index in kf.split(df):\n",
    "    model = MLPRegressor(hidden_layer_sizes=(30,30,30,30),activation=\"relu\", max_iter=numEpocas, n_iter_no_change=numEpocas/2, batch_size=256)\n",
    "    model = model.fit(df.iloc[train_index],target[\"diameter\"].iloc[train_index])\n",
    "    prediccion=model.predict(df.iloc[train_index])\n",
    "    MSETrain[index]=mean_squared_error(target[\"diameter\"].iloc[train_index],prediccion)\n",
    "    prediccion=model.predict(df.iloc[test_index])\n",
    "    MSETest[index]=mean_squared_error(target[\"diameter\"].iloc[test_index],prediccion)\n",
    "    \n",
    "    index = index + 1\n",
    "    print(index)\n",
    "    \n",
    "print(\"Average MSE train error: \",MSETrain.mean(),\"+-\",MSETrain.std())\n",
    "print(\"Average MSE train error: \",MSETest.mean(),\"+-\",MSETest.std())"
   ]
  },
  {
   "cell_type": "markdown",
   "metadata": {},
   "source": [
    "### 5 Capas"
   ]
  },
  {
   "cell_type": "markdown",
   "metadata": {},
   "source": [
    "#### Hidden Layers Sizes: (20,20,20,20,20)"
   ]
  },
  {
   "cell_type": "code",
   "execution_count": 14,
   "metadata": {
    "scrolled": true
   },
   "outputs": [
    {
     "name": "stderr",
     "output_type": "stream",
     "text": [
      "c:\\Users\\erick\\AppData\\Local\\Programs\\Python\\Python310\\lib\\site-packages\\sklearn\\neural_network\\_multilayer_perceptron.py:692: ConvergenceWarning: Stochastic Optimizer: Maximum iterations (1000) reached and the optimization hasn't converged yet.\n"
     ]
    },
    {
     "name": "stdout",
     "output_type": "stream",
     "text": [
      "1\n"
     ]
    },
    {
     "name": "stderr",
     "output_type": "stream",
     "text": [
      "c:\\Users\\erick\\AppData\\Local\\Programs\\Python\\Python310\\lib\\site-packages\\sklearn\\neural_network\\_multilayer_perceptron.py:692: ConvergenceWarning: Stochastic Optimizer: Maximum iterations (1000) reached and the optimization hasn't converged yet.\n"
     ]
    },
    {
     "name": "stdout",
     "output_type": "stream",
     "text": [
      "2\n"
     ]
    },
    {
     "name": "stderr",
     "output_type": "stream",
     "text": [
      "c:\\Users\\erick\\AppData\\Local\\Programs\\Python\\Python310\\lib\\site-packages\\sklearn\\neural_network\\_multilayer_perceptron.py:692: ConvergenceWarning: Stochastic Optimizer: Maximum iterations (1000) reached and the optimization hasn't converged yet.\n"
     ]
    },
    {
     "name": "stdout",
     "output_type": "stream",
     "text": [
      "3\n",
      "4\n"
     ]
    },
    {
     "name": "stderr",
     "output_type": "stream",
     "text": [
      "c:\\Users\\erick\\AppData\\Local\\Programs\\Python\\Python310\\lib\\site-packages\\sklearn\\neural_network\\_multilayer_perceptron.py:692: ConvergenceWarning: Stochastic Optimizer: Maximum iterations (1000) reached and the optimization hasn't converged yet.\n"
     ]
    },
    {
     "name": "stdout",
     "output_type": "stream",
     "text": [
      "5\n"
     ]
    },
    {
     "name": "stderr",
     "output_type": "stream",
     "text": [
      "c:\\Users\\erick\\AppData\\Local\\Programs\\Python\\Python310\\lib\\site-packages\\sklearn\\neural_network\\_multilayer_perceptron.py:692: ConvergenceWarning: Stochastic Optimizer: Maximum iterations (1000) reached and the optimization hasn't converged yet.\n"
     ]
    },
    {
     "name": "stdout",
     "output_type": "stream",
     "text": [
      "6\n"
     ]
    },
    {
     "name": "stderr",
     "output_type": "stream",
     "text": [
      "c:\\Users\\erick\\AppData\\Local\\Programs\\Python\\Python310\\lib\\site-packages\\sklearn\\neural_network\\_multilayer_perceptron.py:692: ConvergenceWarning: Stochastic Optimizer: Maximum iterations (1000) reached and the optimization hasn't converged yet.\n"
     ]
    },
    {
     "name": "stdout",
     "output_type": "stream",
     "text": [
      "7\n"
     ]
    },
    {
     "name": "stderr",
     "output_type": "stream",
     "text": [
      "c:\\Users\\erick\\AppData\\Local\\Programs\\Python\\Python310\\lib\\site-packages\\sklearn\\neural_network\\_multilayer_perceptron.py:692: ConvergenceWarning: Stochastic Optimizer: Maximum iterations (1000) reached and the optimization hasn't converged yet.\n"
     ]
    },
    {
     "name": "stdout",
     "output_type": "stream",
     "text": [
      "8\n"
     ]
    },
    {
     "name": "stderr",
     "output_type": "stream",
     "text": [
      "c:\\Users\\erick\\AppData\\Local\\Programs\\Python\\Python310\\lib\\site-packages\\sklearn\\neural_network\\_multilayer_perceptron.py:692: ConvergenceWarning: Stochastic Optimizer: Maximum iterations (1000) reached and the optimization hasn't converged yet.\n"
     ]
    },
    {
     "name": "stdout",
     "output_type": "stream",
     "text": [
      "9\n"
     ]
    },
    {
     "name": "stderr",
     "output_type": "stream",
     "text": [
      "c:\\Users\\erick\\AppData\\Local\\Programs\\Python\\Python310\\lib\\site-packages\\sklearn\\neural_network\\_multilayer_perceptron.py:692: ConvergenceWarning: Stochastic Optimizer: Maximum iterations (1000) reached and the optimization hasn't converged yet.\n"
     ]
    },
    {
     "name": "stdout",
     "output_type": "stream",
     "text": [
      "10\n",
      "Average MSE train error:  36.477173301776574 +- 3.671226138176775\n",
      "Average MSE train error:  41.960643060611446 +- 25.82002016039933\n"
     ]
    }
   ],
   "source": [
    "from sklearn.neural_network import MLPRegressor\n",
    "from sklearn import metrics as mt\n",
    "from sklearn.model_selection import KFold\n",
    "from sklearn.metrics import mean_squared_error\n",
    "\n",
    "numEpocas=1000\n",
    "\n",
    "#Crear un objeto de KFold cross validation\n",
    "k = 10\n",
    "kf = KFold(n_splits = k, shuffle = True, random_state = 42)\n",
    "\n",
    "#Crear arreglos para guardar los errores de cada fold (tanto para entrenamiento como test).\n",
    "MSETrain = np.zeros(k)\n",
    "MSETest = np.zeros(k)\n",
    "index=0\n",
    "for train_index, test_index in kf.split(df):\n",
    "    model = MLPRegressor(hidden_layer_sizes=(20,20,20,20,20),activation=\"relu\", max_iter=numEpocas, n_iter_no_change=numEpocas/2, batch_size=256)\n",
    "    model = model.fit(df.iloc[train_index],target[\"diameter\"].iloc[train_index])\n",
    "    prediccion=model.predict(df.iloc[train_index])\n",
    "    MSETrain[index]=mean_squared_error(target[\"diameter\"].iloc[train_index],prediccion)\n",
    "    prediccion=model.predict(df.iloc[test_index])\n",
    "    MSETest[index]=mean_squared_error(target[\"diameter\"].iloc[test_index],prediccion)\n",
    "    \n",
    "    index = index + 1\n",
    "    print(index)\n",
    "    \n",
    "print(\"Average MSE train error: \",MSETrain.mean(),\"+-\",MSETrain.std())\n",
    "print(\"Average MSE train error: \",MSETest.mean(),\"+-\",MSETest.std())"
   ]
  },
  {
   "cell_type": "markdown",
   "metadata": {},
   "source": [
    "#### Hidden Layers Sizes: (11,4,4,4,1)"
   ]
  },
  {
   "cell_type": "code",
   "execution_count": 15,
   "metadata": {
    "scrolled": true
   },
   "outputs": [
    {
     "name": "stdout",
     "output_type": "stream",
     "text": [
      "1\n"
     ]
    },
    {
     "name": "stderr",
     "output_type": "stream",
     "text": [
      "c:\\Users\\erick\\AppData\\Local\\Programs\\Python\\Python310\\lib\\site-packages\\sklearn\\neural_network\\_multilayer_perceptron.py:692: ConvergenceWarning: Stochastic Optimizer: Maximum iterations (1000) reached and the optimization hasn't converged yet.\n"
     ]
    },
    {
     "name": "stdout",
     "output_type": "stream",
     "text": [
      "2\n"
     ]
    },
    {
     "name": "stderr",
     "output_type": "stream",
     "text": [
      "c:\\Users\\erick\\AppData\\Local\\Programs\\Python\\Python310\\lib\\site-packages\\sklearn\\neural_network\\_multilayer_perceptron.py:692: ConvergenceWarning: Stochastic Optimizer: Maximum iterations (1000) reached and the optimization hasn't converged yet.\n"
     ]
    },
    {
     "name": "stdout",
     "output_type": "stream",
     "text": [
      "3\n"
     ]
    },
    {
     "name": "stderr",
     "output_type": "stream",
     "text": [
      "c:\\Users\\erick\\AppData\\Local\\Programs\\Python\\Python310\\lib\\site-packages\\sklearn\\neural_network\\_multilayer_perceptron.py:692: ConvergenceWarning: Stochastic Optimizer: Maximum iterations (1000) reached and the optimization hasn't converged yet.\n"
     ]
    },
    {
     "name": "stdout",
     "output_type": "stream",
     "text": [
      "4\n"
     ]
    },
    {
     "name": "stderr",
     "output_type": "stream",
     "text": [
      "c:\\Users\\erick\\AppData\\Local\\Programs\\Python\\Python310\\lib\\site-packages\\sklearn\\neural_network\\_multilayer_perceptron.py:692: ConvergenceWarning: Stochastic Optimizer: Maximum iterations (1000) reached and the optimization hasn't converged yet.\n"
     ]
    },
    {
     "name": "stdout",
     "output_type": "stream",
     "text": [
      "5\n"
     ]
    },
    {
     "name": "stderr",
     "output_type": "stream",
     "text": [
      "c:\\Users\\erick\\AppData\\Local\\Programs\\Python\\Python310\\lib\\site-packages\\sklearn\\neural_network\\_multilayer_perceptron.py:692: ConvergenceWarning: Stochastic Optimizer: Maximum iterations (1000) reached and the optimization hasn't converged yet.\n"
     ]
    },
    {
     "name": "stdout",
     "output_type": "stream",
     "text": [
      "6\n"
     ]
    },
    {
     "name": "stderr",
     "output_type": "stream",
     "text": [
      "c:\\Users\\erick\\AppData\\Local\\Programs\\Python\\Python310\\lib\\site-packages\\sklearn\\neural_network\\_multilayer_perceptron.py:692: ConvergenceWarning: Stochastic Optimizer: Maximum iterations (1000) reached and the optimization hasn't converged yet.\n"
     ]
    },
    {
     "name": "stdout",
     "output_type": "stream",
     "text": [
      "7\n"
     ]
    },
    {
     "name": "stderr",
     "output_type": "stream",
     "text": [
      "c:\\Users\\erick\\AppData\\Local\\Programs\\Python\\Python310\\lib\\site-packages\\sklearn\\neural_network\\_multilayer_perceptron.py:692: ConvergenceWarning: Stochastic Optimizer: Maximum iterations (1000) reached and the optimization hasn't converged yet.\n"
     ]
    },
    {
     "name": "stdout",
     "output_type": "stream",
     "text": [
      "8\n"
     ]
    },
    {
     "name": "stderr",
     "output_type": "stream",
     "text": [
      "c:\\Users\\erick\\AppData\\Local\\Programs\\Python\\Python310\\lib\\site-packages\\sklearn\\neural_network\\_multilayer_perceptron.py:692: ConvergenceWarning: Stochastic Optimizer: Maximum iterations (1000) reached and the optimization hasn't converged yet.\n"
     ]
    },
    {
     "name": "stdout",
     "output_type": "stream",
     "text": [
      "9\n",
      "10\n",
      "Average MSE train error:  44.43038761315236 +- 10.198936917324106\n",
      "Average MSE train error:  43.7401703652429 +- 35.44070216395143\n"
     ]
    },
    {
     "name": "stderr",
     "output_type": "stream",
     "text": [
      "c:\\Users\\erick\\AppData\\Local\\Programs\\Python\\Python310\\lib\\site-packages\\sklearn\\neural_network\\_multilayer_perceptron.py:692: ConvergenceWarning: Stochastic Optimizer: Maximum iterations (1000) reached and the optimization hasn't converged yet.\n"
     ]
    }
   ],
   "source": [
    "from sklearn.neural_network import MLPRegressor\n",
    "from sklearn import metrics as mt\n",
    "from sklearn.model_selection import KFold\n",
    "from sklearn.metrics import mean_squared_error\n",
    "\n",
    "numEpocas=1000\n",
    "\n",
    "#Crear un objeto de KFold cross validation\n",
    "k = 10\n",
    "kf = KFold(n_splits = k, shuffle = True, random_state = 42)\n",
    "\n",
    "#Crear arreglos para guardar los errores de cada fold (tanto para entrenamiento como test).\n",
    "MSETrain = np.zeros(k)\n",
    "MSETest = np.zeros(k)\n",
    "index=0\n",
    "for train_index, test_index in kf.split(df):\n",
    "    model = MLPRegressor(hidden_layer_sizes=(11,4,4,4,1),activation=\"relu\", max_iter=numEpocas, n_iter_no_change=numEpocas/2, batch_size=256)\n",
    "    model = model.fit(df.iloc[train_index],target[\"diameter\"].iloc[train_index])\n",
    "    prediccion=model.predict(df.iloc[train_index])\n",
    "    MSETrain[index]=mean_squared_error(target[\"diameter\"].iloc[train_index],prediccion)\n",
    "    prediccion=model.predict(df.iloc[test_index])\n",
    "    MSETest[index]=mean_squared_error(target[\"diameter\"].iloc[test_index],prediccion)\n",
    "    \n",
    "    index = index + 1\n",
    "    print(index)\n",
    "    \n",
    "print(\"Average MSE train error: \",MSETrain.mean(),\"+-\",MSETrain.std())\n",
    "print(\"Average MSE train error: \",MSETest.mean(),\"+-\",MSETest.std())"
   ]
  },
  {
   "cell_type": "markdown",
   "metadata": {},
   "source": [
    "#### Hidden Layers Sizes: (11,3,3,3,1)"
   ]
  },
  {
   "cell_type": "code",
   "execution_count": 16,
   "metadata": {
    "scrolled": true
   },
   "outputs": [
    {
     "name": "stderr",
     "output_type": "stream",
     "text": [
      "c:\\Users\\erick\\AppData\\Local\\Programs\\Python\\Python310\\lib\\site-packages\\sklearn\\neural_network\\_multilayer_perceptron.py:692: ConvergenceWarning: Stochastic Optimizer: Maximum iterations (1000) reached and the optimization hasn't converged yet.\n"
     ]
    },
    {
     "name": "stdout",
     "output_type": "stream",
     "text": [
      "1\n"
     ]
    },
    {
     "name": "stderr",
     "output_type": "stream",
     "text": [
      "c:\\Users\\erick\\AppData\\Local\\Programs\\Python\\Python310\\lib\\site-packages\\sklearn\\neural_network\\_multilayer_perceptron.py:692: ConvergenceWarning: Stochastic Optimizer: Maximum iterations (1000) reached and the optimization hasn't converged yet.\n"
     ]
    },
    {
     "name": "stdout",
     "output_type": "stream",
     "text": [
      "2\n",
      "3\n"
     ]
    },
    {
     "name": "stderr",
     "output_type": "stream",
     "text": [
      "c:\\Users\\erick\\AppData\\Local\\Programs\\Python\\Python310\\lib\\site-packages\\sklearn\\neural_network\\_multilayer_perceptron.py:692: ConvergenceWarning: Stochastic Optimizer: Maximum iterations (1000) reached and the optimization hasn't converged yet.\n"
     ]
    },
    {
     "name": "stdout",
     "output_type": "stream",
     "text": [
      "4\n"
     ]
    },
    {
     "name": "stderr",
     "output_type": "stream",
     "text": [
      "c:\\Users\\erick\\AppData\\Local\\Programs\\Python\\Python310\\lib\\site-packages\\sklearn\\neural_network\\_multilayer_perceptron.py:692: ConvergenceWarning: Stochastic Optimizer: Maximum iterations (1000) reached and the optimization hasn't converged yet.\n"
     ]
    },
    {
     "name": "stdout",
     "output_type": "stream",
     "text": [
      "5\n"
     ]
    },
    {
     "name": "stderr",
     "output_type": "stream",
     "text": [
      "c:\\Users\\erick\\AppData\\Local\\Programs\\Python\\Python310\\lib\\site-packages\\sklearn\\neural_network\\_multilayer_perceptron.py:692: ConvergenceWarning: Stochastic Optimizer: Maximum iterations (1000) reached and the optimization hasn't converged yet.\n"
     ]
    },
    {
     "name": "stdout",
     "output_type": "stream",
     "text": [
      "6\n",
      "7\n"
     ]
    },
    {
     "name": "stderr",
     "output_type": "stream",
     "text": [
      "c:\\Users\\erick\\AppData\\Local\\Programs\\Python\\Python310\\lib\\site-packages\\sklearn\\neural_network\\_multilayer_perceptron.py:692: ConvergenceWarning: Stochastic Optimizer: Maximum iterations (1000) reached and the optimization hasn't converged yet.\n"
     ]
    },
    {
     "name": "stdout",
     "output_type": "stream",
     "text": [
      "8\n"
     ]
    },
    {
     "name": "stderr",
     "output_type": "stream",
     "text": [
      "c:\\Users\\erick\\AppData\\Local\\Programs\\Python\\Python310\\lib\\site-packages\\sklearn\\neural_network\\_multilayer_perceptron.py:692: ConvergenceWarning: Stochastic Optimizer: Maximum iterations (1000) reached and the optimization hasn't converged yet.\n"
     ]
    },
    {
     "name": "stdout",
     "output_type": "stream",
     "text": [
      "9\n",
      "10\n",
      "Average MSE train error:  53.78777742589433 +- 19.212950407761603\n",
      "Average MSE train error:  55.169669972927615 +- 26.65684339125957\n"
     ]
    }
   ],
   "source": [
    "from sklearn.neural_network import MLPRegressor\n",
    "from sklearn import metrics as mt\n",
    "from sklearn.model_selection import KFold\n",
    "from sklearn.metrics import mean_squared_error\n",
    "\n",
    "numEpocas=1000\n",
    "\n",
    "#Crear un objeto de KFold cross validation\n",
    "k = 10\n",
    "kf = KFold(n_splits = k, shuffle = True, random_state = 42)\n",
    "\n",
    "#Crear arreglos para guardar los errores de cada fold (tanto para entrenamiento como test).\n",
    "MSETrain = np.zeros(k)\n",
    "MSETest = np.zeros(k)\n",
    "index=0\n",
    "for train_index, test_index in kf.split(df):\n",
    "    model = MLPRegressor(hidden_layer_sizes=(11,3,3,3,1),activation=\"relu\", max_iter=numEpocas, n_iter_no_change=numEpocas/2, batch_size=256)\n",
    "    model = model.fit(df.iloc[train_index],target[\"diameter\"].iloc[train_index])\n",
    "    prediccion=model.predict(df.iloc[train_index])\n",
    "    MSETrain[index]=mean_squared_error(target[\"diameter\"].iloc[train_index],prediccion)\n",
    "    prediccion=model.predict(df.iloc[test_index])\n",
    "    MSETest[index]=mean_squared_error(target[\"diameter\"].iloc[test_index],prediccion)\n",
    "    \n",
    "    index = index + 1\n",
    "    print(index)\n",
    "    \n",
    "print(\"Average MSE train error: \",MSETrain.mean(),\"+-\",MSETrain.std())\n",
    "print(\"Average MSE train error: \",MSETest.mean(),\"+-\",MSETest.std())"
   ]
  },
  {
   "cell_type": "markdown",
   "metadata": {},
   "source": [
    "### 10 Capas"
   ]
  },
  {
   "cell_type": "markdown",
   "metadata": {},
   "source": [
    "#### Hidden Layers Sizes: (8,10,10,10,10,10,10,10,10,1)"
   ]
  },
  {
   "cell_type": "code",
   "execution_count": 10,
   "metadata": {
    "scrolled": true
   },
   "outputs": [
    {
     "name": "stderr",
     "output_type": "stream",
     "text": [
      "c:\\Users\\erick\\AppData\\Local\\Programs\\Python\\Python310\\lib\\site-packages\\sklearn\\neural_network\\_multilayer_perceptron.py:692: ConvergenceWarning: Stochastic Optimizer: Maximum iterations (1000) reached and the optimization hasn't converged yet.\n"
     ]
    },
    {
     "name": "stdout",
     "output_type": "stream",
     "text": [
      "1\n"
     ]
    },
    {
     "name": "stderr",
     "output_type": "stream",
     "text": [
      "c:\\Users\\erick\\AppData\\Local\\Programs\\Python\\Python310\\lib\\site-packages\\sklearn\\neural_network\\_multilayer_perceptron.py:692: ConvergenceWarning: Stochastic Optimizer: Maximum iterations (1000) reached and the optimization hasn't converged yet.\n"
     ]
    },
    {
     "name": "stdout",
     "output_type": "stream",
     "text": [
      "2\n"
     ]
    },
    {
     "name": "stderr",
     "output_type": "stream",
     "text": [
      "c:\\Users\\erick\\AppData\\Local\\Programs\\Python\\Python310\\lib\\site-packages\\sklearn\\neural_network\\_multilayer_perceptron.py:692: ConvergenceWarning: Stochastic Optimizer: Maximum iterations (1000) reached and the optimization hasn't converged yet.\n"
     ]
    },
    {
     "name": "stdout",
     "output_type": "stream",
     "text": [
      "3\n"
     ]
    },
    {
     "name": "stderr",
     "output_type": "stream",
     "text": [
      "c:\\Users\\erick\\AppData\\Local\\Programs\\Python\\Python310\\lib\\site-packages\\sklearn\\neural_network\\_multilayer_perceptron.py:692: ConvergenceWarning: Stochastic Optimizer: Maximum iterations (1000) reached and the optimization hasn't converged yet.\n"
     ]
    },
    {
     "name": "stdout",
     "output_type": "stream",
     "text": [
      "4\n"
     ]
    },
    {
     "name": "stderr",
     "output_type": "stream",
     "text": [
      "c:\\Users\\erick\\AppData\\Local\\Programs\\Python\\Python310\\lib\\site-packages\\sklearn\\neural_network\\_multilayer_perceptron.py:692: ConvergenceWarning: Stochastic Optimizer: Maximum iterations (1000) reached and the optimization hasn't converged yet.\n"
     ]
    },
    {
     "name": "stdout",
     "output_type": "stream",
     "text": [
      "5\n",
      "6\n"
     ]
    },
    {
     "name": "stderr",
     "output_type": "stream",
     "text": [
      "c:\\Users\\erick\\AppData\\Local\\Programs\\Python\\Python310\\lib\\site-packages\\sklearn\\neural_network\\_multilayer_perceptron.py:692: ConvergenceWarning: Stochastic Optimizer: Maximum iterations (1000) reached and the optimization hasn't converged yet.\n"
     ]
    },
    {
     "name": "stdout",
     "output_type": "stream",
     "text": [
      "7\n"
     ]
    },
    {
     "name": "stderr",
     "output_type": "stream",
     "text": [
      "c:\\Users\\erick\\AppData\\Local\\Programs\\Python\\Python310\\lib\\site-packages\\sklearn\\neural_network\\_multilayer_perceptron.py:692: ConvergenceWarning: Stochastic Optimizer: Maximum iterations (1000) reached and the optimization hasn't converged yet.\n"
     ]
    },
    {
     "name": "stdout",
     "output_type": "stream",
     "text": [
      "8\n",
      "9\n",
      "10\n",
      "Average MSE train error:  51.16852635288575 +- 21.3811654491866\n",
      "Average MSE train error:  51.739520019129976 +- 25.373422528688593\n"
     ]
    }
   ],
   "source": [
    "from sklearn.neural_network import MLPRegressor\n",
    "from sklearn import metrics as mt\n",
    "from sklearn.model_selection import KFold\n",
    "from sklearn.metrics import mean_squared_error\n",
    "\n",
    "numEpocas=1000\n",
    "\n",
    "#Crear un objeto de KFold cross validation\n",
    "k = 10\n",
    "kf = KFold(n_splits = k, shuffle = True, random_state = 42)\n",
    "\n",
    "#Crear arreglos para guardar los errores de cada fold (tanto para entrenamiento como test).\n",
    "MSETrain = np.zeros(k)\n",
    "MSETest = np.zeros(k)\n",
    "index=0\n",
    "for train_index, test_index in kf.split(df):\n",
    "    model = MLPRegressor(hidden_layer_sizes=(8,10,10,10,10,10,10,10,10,1),activation=\"relu\", max_iter=numEpocas, n_iter_no_change=numEpocas/2, batch_size=256)\n",
    "    model = model.fit(df.iloc[train_index],target[\"diameter\"].iloc[train_index])\n",
    "    prediccion=model.predict(df.iloc[train_index])\n",
    "    MSETrain[index]=mean_squared_error(target[\"diameter\"].iloc[train_index],prediccion)\n",
    "    prediccion=model.predict(df.iloc[test_index])\n",
    "    MSETest[index]=mean_squared_error(target[\"diameter\"].iloc[test_index],prediccion)\n",
    "    \n",
    "    index = index + 1\n",
    "    print(index)\n",
    "    \n",
    "print(\"Average MSE train error: \",MSETrain.mean(),\"+-\",MSETrain.std())\n",
    "print(\"Average MSE train error: \",MSETest.mean(),\"+-\",MSETest.std())"
   ]
  },
  {
   "cell_type": "code",
   "execution_count": null,
   "metadata": {},
   "outputs": [],
   "source": []
  },
  {
   "cell_type": "code",
   "execution_count": null,
   "metadata": {},
   "outputs": [],
   "source": []
  }
 ],
 "metadata": {
  "kernelspec": {
   "display_name": "Python 3 (ipykernel)",
   "language": "python",
   "name": "python3"
  },
  "language_info": {
   "codemirror_mode": {
    "name": "ipython",
    "version": 3
   },
   "file_extension": ".py",
   "mimetype": "text/x-python",
   "name": "python",
   "nbconvert_exporter": "python",
   "pygments_lexer": "ipython3",
   "version": "3.9.12"
  },
  "vscode": {
   "interpreter": {
    "hash": "9cab696a8cc852ec6542f46a607bbe847f38da59b30dfa8341fe0bc17ad0c6e5"
   }
  }
 },
 "nbformat": 4,
 "nbformat_minor": 4
}
