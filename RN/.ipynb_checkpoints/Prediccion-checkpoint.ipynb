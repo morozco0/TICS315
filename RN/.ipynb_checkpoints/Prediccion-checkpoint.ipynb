{
 "cells": [
  {
   "cell_type": "code",
   "execution_count": 1,
   "id": "c05bd34c",
   "metadata": {
    "ExecuteTime": {
     "end_time": "2022-08-30T02:46:01.572025Z",
     "start_time": "2022-08-30T02:45:57.637131Z"
    }
   },
   "outputs": [],
   "source": [
    "import numpy as np\n",
    "import pandas as pd\n",
    "from plotnine import *\n",
    "from IPython.display import display"
   ]
  },
  {
   "cell_type": "markdown",
   "id": "072ffb67",
   "metadata": {},
   "source": [
    "# Entrenamiento"
   ]
  },
  {
   "cell_type": "code",
   "execution_count": 22,
   "id": "bfa38ad6",
   "metadata": {
    "ExecuteTime": {
     "end_time": "2022-08-30T03:18:26.500763Z",
     "start_time": "2022-08-30T03:18:26.168805Z"
    }
   },
   "outputs": [
    {
     "name": "stdout",
     "output_type": "stream",
     "text": [
      "<class 'pandas.core.frame.DataFrame'>\n",
      "RangeIndex: 100000 entries, 0 to 99999\n",
      "Data columns (total 12 columns):\n",
      " #   Column      Non-Null Count   Dtype  \n",
      "---  ------      --------------   -----  \n",
      " 0   Unnamed: 0  100000 non-null  int64  \n",
      " 1   a           100000 non-null  float64\n",
      " 2   e           100000 non-null  float64\n",
      " 3   i           100000 non-null  float64\n",
      " 4   om          100000 non-null  float64\n",
      " 5   w           100000 non-null  float64\n",
      " 6   q           100000 non-null  float64\n",
      " 7   ad          100000 non-null  float64\n",
      " 8   per_y       100000 non-null  float64\n",
      " 9   n_obs_used  100000 non-null  int64  \n",
      " 10  diameter    100000 non-null  object \n",
      " 11  moid        100000 non-null  float64\n",
      "dtypes: float64(9), int64(2), object(1)\n",
      "memory usage: 9.2+ MB\n"
     ]
    },
    {
     "name": "stderr",
     "output_type": "stream",
     "text": [
      "/var/folders/9s/lsn4mdhn6x1dt65pqvbzx5680000gn/T/ipykernel_5350/3605877664.py:2: DtypeWarning: Columns (10) have mixed types. Specify dtype option on import or set low_memory=False.\n"
     ]
    }
   ],
   "source": [
    "# Importar CSV con la limpieza de Datos realizada\n",
    "DF = pd.read_csv(\"asteroidEXP.csv\")\n",
    "DF.info()"
   ]
  },
  {
   "cell_type": "code",
   "execution_count": 23,
   "id": "204f1cf0",
   "metadata": {
    "ExecuteTime": {
     "end_time": "2022-08-30T03:18:26.655799Z",
     "start_time": "2022-08-30T03:18:26.611361Z"
    }
   },
   "outputs": [
    {
     "data": {
      "text/html": [
       "<div>\n",
       "<style scoped>\n",
       "    .dataframe tbody tr th:only-of-type {\n",
       "        vertical-align: middle;\n",
       "    }\n",
       "\n",
       "    .dataframe tbody tr th {\n",
       "        vertical-align: top;\n",
       "    }\n",
       "\n",
       "    .dataframe thead th {\n",
       "        text-align: right;\n",
       "    }\n",
       "</style>\n",
       "<table border=\"1\" class=\"dataframe\">\n",
       "  <thead>\n",
       "    <tr style=\"text-align: right;\">\n",
       "      <th></th>\n",
       "      <th>a</th>\n",
       "      <th>e</th>\n",
       "      <th>i</th>\n",
       "      <th>om</th>\n",
       "      <th>w</th>\n",
       "      <th>q</th>\n",
       "      <th>ad</th>\n",
       "      <th>per_y</th>\n",
       "      <th>n_obs_used</th>\n",
       "      <th>moid</th>\n",
       "    </tr>\n",
       "  </thead>\n",
       "  <tbody>\n",
       "    <tr>\n",
       "      <th>0</th>\n",
       "      <td>3.069866</td>\n",
       "      <td>0.184417</td>\n",
       "      <td>3.620920</td>\n",
       "      <td>308.458533</td>\n",
       "      <td>249.570070</td>\n",
       "      <td>2.503729</td>\n",
       "      <td>3.636003</td>\n",
       "      <td>5.378824</td>\n",
       "      <td>614</td>\n",
       "      <td>1.50522</td>\n",
       "    </tr>\n",
       "    <tr>\n",
       "      <th>1</th>\n",
       "      <td>2.386539</td>\n",
       "      <td>0.104566</td>\n",
       "      <td>13.003513</td>\n",
       "      <td>105.866881</td>\n",
       "      <td>329.104052</td>\n",
       "      <td>2.136988</td>\n",
       "      <td>2.636089</td>\n",
       "      <td>3.686897</td>\n",
       "      <td>1247</td>\n",
       "      <td>1.16197</td>\n",
       "    </tr>\n",
       "    <tr>\n",
       "      <th>2</th>\n",
       "      <td>3.018175</td>\n",
       "      <td>0.084529</td>\n",
       "      <td>14.247933</td>\n",
       "      <td>245.449168</td>\n",
       "      <td>115.242451</td>\n",
       "      <td>2.763053</td>\n",
       "      <td>3.273297</td>\n",
       "      <td>5.243544</td>\n",
       "      <td>181</td>\n",
       "      <td>1.79743</td>\n",
       "    </tr>\n",
       "    <tr>\n",
       "      <th>3</th>\n",
       "      <td>2.793049</td>\n",
       "      <td>0.290215</td>\n",
       "      <td>16.677722</td>\n",
       "      <td>17.862425</td>\n",
       "      <td>287.769691</td>\n",
       "      <td>1.982465</td>\n",
       "      <td>3.603633</td>\n",
       "      <td>4.667948</td>\n",
       "      <td>955</td>\n",
       "      <td>1.04034</td>\n",
       "    </tr>\n",
       "    <tr>\n",
       "      <th>4</th>\n",
       "      <td>2.721394</td>\n",
       "      <td>0.098602</td>\n",
       "      <td>1.975506</td>\n",
       "      <td>271.706257</td>\n",
       "      <td>248.448520</td>\n",
       "      <td>2.453059</td>\n",
       "      <td>2.989728</td>\n",
       "      <td>4.489472</td>\n",
       "      <td>251</td>\n",
       "      <td>1.46299</td>\n",
       "    </tr>\n",
       "    <tr>\n",
       "      <th>...</th>\n",
       "      <td>...</td>\n",
       "      <td>...</td>\n",
       "      <td>...</td>\n",
       "      <td>...</td>\n",
       "      <td>...</td>\n",
       "      <td>...</td>\n",
       "      <td>...</td>\n",
       "      <td>...</td>\n",
       "      <td>...</td>\n",
       "      <td>...</td>\n",
       "    </tr>\n",
       "    <tr>\n",
       "      <th>99995</th>\n",
       "      <td>3.161511</td>\n",
       "      <td>0.166092</td>\n",
       "      <td>28.442710</td>\n",
       "      <td>224.796987</td>\n",
       "      <td>2.422644</td>\n",
       "      <td>2.636410</td>\n",
       "      <td>3.686612</td>\n",
       "      <td>5.621475</td>\n",
       "      <td>112</td>\n",
       "      <td>1.62746</td>\n",
       "    </tr>\n",
       "    <tr>\n",
       "      <th>99996</th>\n",
       "      <td>2.715932</td>\n",
       "      <td>0.239266</td>\n",
       "      <td>16.789523</td>\n",
       "      <td>34.531718</td>\n",
       "      <td>44.097353</td>\n",
       "      <td>2.066102</td>\n",
       "      <td>3.365761</td>\n",
       "      <td>4.475963</td>\n",
       "      <td>201</td>\n",
       "      <td>1.11044</td>\n",
       "    </tr>\n",
       "    <tr>\n",
       "      <th>99997</th>\n",
       "      <td>3.188786</td>\n",
       "      <td>0.278970</td>\n",
       "      <td>15.177104</td>\n",
       "      <td>188.342499</td>\n",
       "      <td>255.934423</td>\n",
       "      <td>2.299209</td>\n",
       "      <td>4.078363</td>\n",
       "      <td>5.694376</td>\n",
       "      <td>141</td>\n",
       "      <td>1.36906</td>\n",
       "    </tr>\n",
       "    <tr>\n",
       "      <th>99998</th>\n",
       "      <td>2.754535</td>\n",
       "      <td>0.106028</td>\n",
       "      <td>8.758664</td>\n",
       "      <td>230.483443</td>\n",
       "      <td>34.567890</td>\n",
       "      <td>2.462477</td>\n",
       "      <td>3.046593</td>\n",
       "      <td>4.571730</td>\n",
       "      <td>835</td>\n",
       "      <td>1.45246</td>\n",
       "    </tr>\n",
       "    <tr>\n",
       "      <th>99999</th>\n",
       "      <td>3.940892</td>\n",
       "      <td>0.241022</td>\n",
       "      <td>9.495628</td>\n",
       "      <td>192.657992</td>\n",
       "      <td>197.808221</td>\n",
       "      <td>2.991051</td>\n",
       "      <td>4.890732</td>\n",
       "      <td>7.823479</td>\n",
       "      <td>2036</td>\n",
       "      <td>1.99740</td>\n",
       "    </tr>\n",
       "  </tbody>\n",
       "</table>\n",
       "<p>100000 rows × 10 columns</p>\n",
       "</div>"
      ],
      "text/plain": [
       "              a         e          i          om           w         q  \\\n",
       "0      3.069866  0.184417   3.620920  308.458533  249.570070  2.503729   \n",
       "1      2.386539  0.104566  13.003513  105.866881  329.104052  2.136988   \n",
       "2      3.018175  0.084529  14.247933  245.449168  115.242451  2.763053   \n",
       "3      2.793049  0.290215  16.677722   17.862425  287.769691  1.982465   \n",
       "4      2.721394  0.098602   1.975506  271.706257  248.448520  2.453059   \n",
       "...         ...       ...        ...         ...         ...       ...   \n",
       "99995  3.161511  0.166092  28.442710  224.796987    2.422644  2.636410   \n",
       "99996  2.715932  0.239266  16.789523   34.531718   44.097353  2.066102   \n",
       "99997  3.188786  0.278970  15.177104  188.342499  255.934423  2.299209   \n",
       "99998  2.754535  0.106028   8.758664  230.483443   34.567890  2.462477   \n",
       "99999  3.940892  0.241022   9.495628  192.657992  197.808221  2.991051   \n",
       "\n",
       "             ad     per_y  n_obs_used     moid  \n",
       "0      3.636003  5.378824         614  1.50522  \n",
       "1      2.636089  3.686897        1247  1.16197  \n",
       "2      3.273297  5.243544         181  1.79743  \n",
       "3      3.603633  4.667948         955  1.04034  \n",
       "4      2.989728  4.489472         251  1.46299  \n",
       "...         ...       ...         ...      ...  \n",
       "99995  3.686612  5.621475         112  1.62746  \n",
       "99996  3.365761  4.475963         201  1.11044  \n",
       "99997  4.078363  5.694376         141  1.36906  \n",
       "99998  3.046593  4.571730         835  1.45246  \n",
       "99999  4.890732  7.823479        2036  1.99740  \n",
       "\n",
       "[100000 rows x 10 columns]"
      ]
     },
     "execution_count": 23,
     "metadata": {},
     "output_type": "execute_result"
    }
   ],
   "source": [
    "target = DF['diameter'].to_frame()\n",
    "DF = DF.drop(\"diameter\", axis=1)\n",
    "DF = DF.drop(\"Unnamed: 0\", axis=1)\n",
    "DF"
   ]
  },
  {
   "cell_type": "code",
   "execution_count": 24,
   "id": "5e247ad2",
   "metadata": {
    "ExecuteTime": {
     "end_time": "2022-08-30T03:27:22.059283Z",
     "start_time": "2022-08-30T03:18:34.655111Z"
    }
   },
   "outputs": [
    {
     "name": "stderr",
     "output_type": "stream",
     "text": [
      "/Users/parker/Documents/jupy/lib/python3.8/site-packages/sklearn/neural_network/_multilayer_perceptron.py:702: ConvergenceWarning: Stochastic Optimizer: Maximum iterations (1000) reached and the optimization hasn't converged yet.\n"
     ]
    }
   ],
   "source": [
    "# Crear el modelo y entrenarlo\n",
    "from sklearn.neural_network import MLPRegressor\n",
    "numEpocas = 1000\n",
    "model = MLPRegressor(\n",
    "    hidden_layer_sizes=(10,10,10,10,10),\n",
    "    activation=\"relu\", \n",
    "    max_iter=numEpocas,\n",
    "    n_iter_no_change=numEpocas\n",
    ")\n",
    "model = model.fit(DF,target[\"diameter\"])"
   ]
  },
  {
   "cell_type": "markdown",
   "id": "a93b79e4",
   "metadata": {},
   "source": [
    "# Predicción"
   ]
  },
  {
   "cell_type": "code",
   "execution_count": 37,
   "id": "d99ea2ed",
   "metadata": {
    "ExecuteTime": {
     "end_time": "2022-08-30T03:36:16.829395Z",
     "start_time": "2022-08-30T03:36:16.562607Z"
    }
   },
   "outputs": [
    {
     "name": "stderr",
     "output_type": "stream",
     "text": [
      "/var/folders/9s/lsn4mdhn6x1dt65pqvbzx5680000gn/T/ipykernel_5350/3855895396.py:2: DtypeWarning: Columns (14) have mixed types. Specify dtype option on import or set low_memory=False.\n"
     ]
    }
   ],
   "source": [
    "# Importar CSV para la predicción\n",
    "DF_Eval = pd.read_csv(\"asteroidEval.csv\")\n",
    "DF_Eval = DF_Eval.drop(columns=['neo', 'pha', 'full_name', 'condition_code'])\n",
    "DF_Eval = DF_Eval.dropna(axis=1)"
   ]
  },
  {
   "cell_type": "code",
   "execution_count": 38,
   "id": "fcd591bf",
   "metadata": {
    "ExecuteTime": {
     "end_time": "2022-08-30T03:36:17.447252Z",
     "start_time": "2022-08-30T03:36:17.363657Z"
    }
   },
   "outputs": [],
   "source": [
    "prediccion=model.predict(DF_Eval)"
   ]
  },
  {
   "cell_type": "code",
   "execution_count": 39,
   "id": "25e51646",
   "metadata": {
    "ExecuteTime": {
     "end_time": "2022-08-30T03:36:17.971919Z",
     "start_time": "2022-08-30T03:36:17.965099Z"
    }
   },
   "outputs": [],
   "source": [
    "prediccionDF = pd.DataFrame(prediccion, columns = ['Preddicion'])"
   ]
  },
  {
   "cell_type": "code",
   "execution_count": 40,
   "id": "28144f33",
   "metadata": {
    "ExecuteTime": {
     "end_time": "2022-08-30T03:36:23.472613Z",
     "start_time": "2022-08-30T03:36:23.352330Z"
    }
   },
   "outputs": [],
   "source": [
    "# Exportar el csv con la predicción\n",
    "prediccionDF.to_csv('prediccion.csv')"
   ]
  }
 ],
 "metadata": {
  "kernelspec": {
   "display_name": "Python 3 (ipykernel)",
   "language": "python",
   "name": "python3"
  },
  "language_info": {
   "codemirror_mode": {
    "name": "ipython",
    "version": 3
   },
   "file_extension": ".py",
   "mimetype": "text/x-python",
   "name": "python",
   "nbconvert_exporter": "python",
   "pygments_lexer": "ipython3",
   "version": "3.9.12"
  }
 },
 "nbformat": 4,
 "nbformat_minor": 5
}
