{
 "cells": [
  {
   "cell_type": "markdown",
   "metadata": {},
   "source": [
    "# Tarea Redes Neuronales\n",
    "## Grupos de 3 personas\n",
    "### Entregas atrasadas pierden 1 punto por hora. Si alguien entrega a las 00:00:01 implica que pierde 1 punto en la nota final. Recomendación, entregue una versión inicial cerca de las 22 horas y luego suba las modificaciones.\n",
    "\n",
    "La NASA mantiene la información de varios cometas y quiere determinar alguna manera de predecir el diametro de un cometa. Específicamente, han analizado en forma manual una muestra de 100,000 asteroides. Los datos consisten en 26 variables, con distinta información como por ejemplo nombre del asteroide, su periodo orbital, su periodo de rotación, etc. Todos los datos existentes, se encuentran en un puro archivo llamado asteroidTrain.csv. Mientras que las descripciones de cada una de las variables se encuentran en el archivo tareaInformacion.txt\n",
    "\n",
    "Desafortunadamente, la NASA todavía no ha evaluado 37.681 asteroides y no tienen tiempo para realizarlo. Por lo mismo, le piden que aplique una red neuronal feed forward para obtener una predicción de estos asteroides.\n",
    "\n",
    "1. Lea los datos y borre las variables/asteroides que estime necesario. En caso que crea que la base de datos todavía es demasiado grande para aplicar una red neruonal, usted puede tomar una muestra de la misma. NOTA, justifique cada una de las decisiones tomadas, el puntaje principal se basa en las justificaciones. Una vez generado estos datos, guarde la base de datos final en un nuevo archivo csv (1.5 puntos).\n",
    "2. Entrene un modelo feed forward. Realice una busqueda de hiperparámetros incluyendo número de capas, número de  neuronas, funciones de activación, epocas, etc. Seleccione un modelo final (justificando a través de una evaluación correcta los hiperarametros seleccionados (2.5 puntos). NOTA, justifique cada una de las decisiones tomadas, el puntaje principal se basa en las justificaciones. \n",
    "3. Utilice el modelo seleccionado en el punto anterior y evalue los 37,681 asteroides que la NASA no ha evaluado. En este proceso genere un archivo csv de una sola columna con 37,681 filas donde cada celda tendrá el valor del cometa a predecir (2 puntos). Atención, si ustedes entrega un archivo con un número distinto de filas, de igual manera se evaluará las 37,681 filas.\n",
    "\n",
    "El punto de evaluación final será una competencia entre todas las tareas basados en los MSE más bajos y altos obtenido por cada grupo. El puntaje final será una regresión lineal entre un modelo muy básico y el mejor puntaje.\n",
    "\n",
    "Para esta entrega usted deberá entregar 4 archivos\n",
    "1. Un archivo ipynb que muestre todo el proceso de selección de variables y limpieza de datos aplicados. Además, deberá mostrar la búsqueda de hiperparametros. Este archivo ya deberá haber sido ejecutado y cuando se cargué uno debera ver todo el proceso de ejecución. \n",
    "2. Un nuevo archivo CSV que contenga la base de datos luego de la limpieza generada en el primer punto de la tarea.\n",
    "3. Un archivo ipynb limpio que simplemente cargue la nueva base de datos, entrene el modelo con los hiperparametros seleccionados y genere el archivo csv con las 37,681 estimaciones. Este archivo permitirá ver la replicabilidad de su archivo csv. \n",
    "4. Un archivo csv con las 37,681 estimaciones realizadas para el modelo."
   ]
  },
  {
   "cell_type": "code",
   "execution_count": 2,
   "metadata": {},
   "outputs": [],
   "source": [
    "import numpy as np\n",
    "import pandas as pd\n",
    "from plotnine import *"
   ]
  },
  {
   "cell_type": "code",
   "execution_count": 3,
   "metadata": {},
   "outputs": [
    {
     "name": "stderr",
     "output_type": "stream",
     "text": [
      "C:\\Users\\erick\\AppData\\Local\\Temp\\ipykernel_9124\\3100258975.py:1: DtypeWarning: Columns (14,15) have mixed types. Specify dtype option on import or set low_memory=False.\n"
     ]
    },
    {
     "data": {
      "text/html": [
       "<div>\n",
       "<style scoped>\n",
       "    .dataframe tbody tr th:only-of-type {\n",
       "        vertical-align: middle;\n",
       "    }\n",
       "\n",
       "    .dataframe tbody tr th {\n",
       "        vertical-align: top;\n",
       "    }\n",
       "\n",
       "    .dataframe thead th {\n",
       "        text-align: right;\n",
       "    }\n",
       "</style>\n",
       "<table border=\"1\" class=\"dataframe\">\n",
       "  <thead>\n",
       "    <tr style=\"text-align: right;\">\n",
       "      <th></th>\n",
       "      <th>full_name</th>\n",
       "      <th>a</th>\n",
       "      <th>e</th>\n",
       "      <th>G</th>\n",
       "      <th>i</th>\n",
       "      <th>om</th>\n",
       "      <th>w</th>\n",
       "      <th>q</th>\n",
       "      <th>ad</th>\n",
       "      <th>per_y</th>\n",
       "      <th>...</th>\n",
       "      <th>rot_per</th>\n",
       "      <th>GM</th>\n",
       "      <th>BV</th>\n",
       "      <th>UB</th>\n",
       "      <th>IR</th>\n",
       "      <th>spec_B</th>\n",
       "      <th>spec_T</th>\n",
       "      <th>neo</th>\n",
       "      <th>pha</th>\n",
       "      <th>moid</th>\n",
       "    </tr>\n",
       "  </thead>\n",
       "  <tbody>\n",
       "    <tr>\n",
       "      <th>0</th>\n",
       "      <td>97632 (2000 EL145)</td>\n",
       "      <td>3.069866</td>\n",
       "      <td>0.184417</td>\n",
       "      <td>NaN</td>\n",
       "      <td>3.620920</td>\n",
       "      <td>308.458533</td>\n",
       "      <td>249.570070</td>\n",
       "      <td>2.503729</td>\n",
       "      <td>3.636003</td>\n",
       "      <td>5.378824</td>\n",
       "      <td>...</td>\n",
       "      <td>NaN</td>\n",
       "      <td>NaN</td>\n",
       "      <td>NaN</td>\n",
       "      <td>NaN</td>\n",
       "      <td>NaN</td>\n",
       "      <td>NaN</td>\n",
       "      <td>NaN</td>\n",
       "      <td>N</td>\n",
       "      <td>N</td>\n",
       "      <td>1.50522</td>\n",
       "    </tr>\n",
       "    <tr>\n",
       "      <th>1</th>\n",
       "      <td>49808 (1999 XD40)</td>\n",
       "      <td>2.386539</td>\n",
       "      <td>0.104566</td>\n",
       "      <td>NaN</td>\n",
       "      <td>13.003513</td>\n",
       "      <td>105.866881</td>\n",
       "      <td>329.104052</td>\n",
       "      <td>2.136988</td>\n",
       "      <td>2.636089</td>\n",
       "      <td>3.686897</td>\n",
       "      <td>...</td>\n",
       "      <td>NaN</td>\n",
       "      <td>NaN</td>\n",
       "      <td>NaN</td>\n",
       "      <td>NaN</td>\n",
       "      <td>NaN</td>\n",
       "      <td>NaN</td>\n",
       "      <td>NaN</td>\n",
       "      <td>N</td>\n",
       "      <td>N</td>\n",
       "      <td>1.16197</td>\n",
       "    </tr>\n",
       "    <tr>\n",
       "      <th>2</th>\n",
       "      <td>390390 (2013 WC84)</td>\n",
       "      <td>3.018175</td>\n",
       "      <td>0.084529</td>\n",
       "      <td>NaN</td>\n",
       "      <td>14.247933</td>\n",
       "      <td>245.449168</td>\n",
       "      <td>115.242451</td>\n",
       "      <td>2.763053</td>\n",
       "      <td>3.273297</td>\n",
       "      <td>5.243544</td>\n",
       "      <td>...</td>\n",
       "      <td>NaN</td>\n",
       "      <td>NaN</td>\n",
       "      <td>NaN</td>\n",
       "      <td>NaN</td>\n",
       "      <td>NaN</td>\n",
       "      <td>NaN</td>\n",
       "      <td>NaN</td>\n",
       "      <td>N</td>\n",
       "      <td>N</td>\n",
       "      <td>1.79743</td>\n",
       "    </tr>\n",
       "    <tr>\n",
       "      <th>3</th>\n",
       "      <td>14319 (1978 US5)</td>\n",
       "      <td>2.793049</td>\n",
       "      <td>0.290215</td>\n",
       "      <td>NaN</td>\n",
       "      <td>16.677722</td>\n",
       "      <td>17.862425</td>\n",
       "      <td>287.769691</td>\n",
       "      <td>1.982465</td>\n",
       "      <td>3.603633</td>\n",
       "      <td>4.667948</td>\n",
       "      <td>...</td>\n",
       "      <td>NaN</td>\n",
       "      <td>NaN</td>\n",
       "      <td>NaN</td>\n",
       "      <td>NaN</td>\n",
       "      <td>NaN</td>\n",
       "      <td>NaN</td>\n",
       "      <td>NaN</td>\n",
       "      <td>N</td>\n",
       "      <td>N</td>\n",
       "      <td>1.04034</td>\n",
       "    </tr>\n",
       "    <tr>\n",
       "      <th>4</th>\n",
       "      <td>321079 (2008 SW97)</td>\n",
       "      <td>2.721394</td>\n",
       "      <td>0.098602</td>\n",
       "      <td>NaN</td>\n",
       "      <td>1.975506</td>\n",
       "      <td>271.706257</td>\n",
       "      <td>248.448520</td>\n",
       "      <td>2.453059</td>\n",
       "      <td>2.989728</td>\n",
       "      <td>4.489472</td>\n",
       "      <td>...</td>\n",
       "      <td>NaN</td>\n",
       "      <td>NaN</td>\n",
       "      <td>NaN</td>\n",
       "      <td>NaN</td>\n",
       "      <td>NaN</td>\n",
       "      <td>NaN</td>\n",
       "      <td>NaN</td>\n",
       "      <td>N</td>\n",
       "      <td>N</td>\n",
       "      <td>1.46299</td>\n",
       "    </tr>\n",
       "    <tr>\n",
       "      <th>...</th>\n",
       "      <td>...</td>\n",
       "      <td>...</td>\n",
       "      <td>...</td>\n",
       "      <td>...</td>\n",
       "      <td>...</td>\n",
       "      <td>...</td>\n",
       "      <td>...</td>\n",
       "      <td>...</td>\n",
       "      <td>...</td>\n",
       "      <td>...</td>\n",
       "      <td>...</td>\n",
       "      <td>...</td>\n",
       "      <td>...</td>\n",
       "      <td>...</td>\n",
       "      <td>...</td>\n",
       "      <td>...</td>\n",
       "      <td>...</td>\n",
       "      <td>...</td>\n",
       "      <td>...</td>\n",
       "      <td>...</td>\n",
       "      <td>...</td>\n",
       "    </tr>\n",
       "    <tr>\n",
       "      <th>99995</th>\n",
       "      <td>376501 (2012 KN42)</td>\n",
       "      <td>3.161511</td>\n",
       "      <td>0.166092</td>\n",
       "      <td>NaN</td>\n",
       "      <td>28.442710</td>\n",
       "      <td>224.796987</td>\n",
       "      <td>2.422644</td>\n",
       "      <td>2.636410</td>\n",
       "      <td>3.686612</td>\n",
       "      <td>5.621475</td>\n",
       "      <td>...</td>\n",
       "      <td>NaN</td>\n",
       "      <td>NaN</td>\n",
       "      <td>NaN</td>\n",
       "      <td>NaN</td>\n",
       "      <td>NaN</td>\n",
       "      <td>NaN</td>\n",
       "      <td>NaN</td>\n",
       "      <td>N</td>\n",
       "      <td>N</td>\n",
       "      <td>1.62746</td>\n",
       "    </tr>\n",
       "    <tr>\n",
       "      <th>99996</th>\n",
       "      <td>322401 (2011 QC97)</td>\n",
       "      <td>2.715932</td>\n",
       "      <td>0.239266</td>\n",
       "      <td>NaN</td>\n",
       "      <td>16.789523</td>\n",
       "      <td>34.531718</td>\n",
       "      <td>44.097353</td>\n",
       "      <td>2.066102</td>\n",
       "      <td>3.365761</td>\n",
       "      <td>4.475963</td>\n",
       "      <td>...</td>\n",
       "      <td>21.13</td>\n",
       "      <td>NaN</td>\n",
       "      <td>NaN</td>\n",
       "      <td>NaN</td>\n",
       "      <td>NaN</td>\n",
       "      <td>NaN</td>\n",
       "      <td>NaN</td>\n",
       "      <td>N</td>\n",
       "      <td>N</td>\n",
       "      <td>1.11044</td>\n",
       "    </tr>\n",
       "    <tr>\n",
       "      <th>99997</th>\n",
       "      <td>410630 (2008 RD19)</td>\n",
       "      <td>3.188786</td>\n",
       "      <td>0.278970</td>\n",
       "      <td>NaN</td>\n",
       "      <td>15.177104</td>\n",
       "      <td>188.342499</td>\n",
       "      <td>255.934423</td>\n",
       "      <td>2.299209</td>\n",
       "      <td>4.078363</td>\n",
       "      <td>5.694376</td>\n",
       "      <td>...</td>\n",
       "      <td>NaN</td>\n",
       "      <td>NaN</td>\n",
       "      <td>NaN</td>\n",
       "      <td>NaN</td>\n",
       "      <td>NaN</td>\n",
       "      <td>NaN</td>\n",
       "      <td>NaN</td>\n",
       "      <td>N</td>\n",
       "      <td>N</td>\n",
       "      <td>1.36906</td>\n",
       "    </tr>\n",
       "    <tr>\n",
       "      <th>99998</th>\n",
       "      <td>81593 (2000 HC52)</td>\n",
       "      <td>2.754535</td>\n",
       "      <td>0.106028</td>\n",
       "      <td>NaN</td>\n",
       "      <td>8.758664</td>\n",
       "      <td>230.483443</td>\n",
       "      <td>34.567890</td>\n",
       "      <td>2.462477</td>\n",
       "      <td>3.046593</td>\n",
       "      <td>4.571730</td>\n",
       "      <td>...</td>\n",
       "      <td>NaN</td>\n",
       "      <td>NaN</td>\n",
       "      <td>NaN</td>\n",
       "      <td>NaN</td>\n",
       "      <td>NaN</td>\n",
       "      <td>NaN</td>\n",
       "      <td>NaN</td>\n",
       "      <td>N</td>\n",
       "      <td>N</td>\n",
       "      <td>1.45246</td>\n",
       "    </tr>\n",
       "    <tr>\n",
       "      <th>99999</th>\n",
       "      <td>3990 Heimdal (1987 SO3)</td>\n",
       "      <td>3.940892</td>\n",
       "      <td>0.241022</td>\n",
       "      <td>NaN</td>\n",
       "      <td>9.495628</td>\n",
       "      <td>192.657992</td>\n",
       "      <td>197.808221</td>\n",
       "      <td>2.991051</td>\n",
       "      <td>4.890732</td>\n",
       "      <td>7.823479</td>\n",
       "      <td>...</td>\n",
       "      <td>20.00</td>\n",
       "      <td>NaN</td>\n",
       "      <td>NaN</td>\n",
       "      <td>NaN</td>\n",
       "      <td>NaN</td>\n",
       "      <td>NaN</td>\n",
       "      <td>NaN</td>\n",
       "      <td>N</td>\n",
       "      <td>N</td>\n",
       "      <td>1.99740</td>\n",
       "    </tr>\n",
       "  </tbody>\n",
       "</table>\n",
       "<p>100000 rows × 27 columns</p>\n",
       "</div>"
      ],
      "text/plain": [
       "                       full_name         a         e   G          i  \\\n",
       "0             97632 (2000 EL145)  3.069866  0.184417 NaN   3.620920   \n",
       "1              49808 (1999 XD40)  2.386539  0.104566 NaN  13.003513   \n",
       "2             390390 (2013 WC84)  3.018175  0.084529 NaN  14.247933   \n",
       "3               14319 (1978 US5)  2.793049  0.290215 NaN  16.677722   \n",
       "4             321079 (2008 SW97)  2.721394  0.098602 NaN   1.975506   \n",
       "...                          ...       ...       ...  ..        ...   \n",
       "99995         376501 (2012 KN42)  3.161511  0.166092 NaN  28.442710   \n",
       "99996         322401 (2011 QC97)  2.715932  0.239266 NaN  16.789523   \n",
       "99997         410630 (2008 RD19)  3.188786  0.278970 NaN  15.177104   \n",
       "99998          81593 (2000 HC52)  2.754535  0.106028 NaN   8.758664   \n",
       "99999    3990 Heimdal (1987 SO3)  3.940892  0.241022 NaN   9.495628   \n",
       "\n",
       "               om           w         q        ad     per_y  ...  rot_per  GM  \\\n",
       "0      308.458533  249.570070  2.503729  3.636003  5.378824  ...      NaN NaN   \n",
       "1      105.866881  329.104052  2.136988  2.636089  3.686897  ...      NaN NaN   \n",
       "2      245.449168  115.242451  2.763053  3.273297  5.243544  ...      NaN NaN   \n",
       "3       17.862425  287.769691  1.982465  3.603633  4.667948  ...      NaN NaN   \n",
       "4      271.706257  248.448520  2.453059  2.989728  4.489472  ...      NaN NaN   \n",
       "...           ...         ...       ...       ...       ...  ...      ...  ..   \n",
       "99995  224.796987    2.422644  2.636410  3.686612  5.621475  ...      NaN NaN   \n",
       "99996   34.531718   44.097353  2.066102  3.365761  4.475963  ...    21.13 NaN   \n",
       "99997  188.342499  255.934423  2.299209  4.078363  5.694376  ...      NaN NaN   \n",
       "99998  230.483443   34.567890  2.462477  3.046593  4.571730  ...      NaN NaN   \n",
       "99999  192.657992  197.808221  2.991051  4.890732  7.823479  ...    20.00 NaN   \n",
       "\n",
       "       BV  UB  IR spec_B  spec_T  neo  pha     moid  \n",
       "0     NaN NaN NaN    NaN     NaN    N    N  1.50522  \n",
       "1     NaN NaN NaN    NaN     NaN    N    N  1.16197  \n",
       "2     NaN NaN NaN    NaN     NaN    N    N  1.79743  \n",
       "3     NaN NaN NaN    NaN     NaN    N    N  1.04034  \n",
       "4     NaN NaN NaN    NaN     NaN    N    N  1.46299  \n",
       "...    ..  ..  ..    ...     ...  ...  ...      ...  \n",
       "99995 NaN NaN NaN    NaN     NaN    N    N  1.62746  \n",
       "99996 NaN NaN NaN    NaN     NaN    N    N  1.11044  \n",
       "99997 NaN NaN NaN    NaN     NaN    N    N  1.36906  \n",
       "99998 NaN NaN NaN    NaN     NaN    N    N  1.45246  \n",
       "99999 NaN NaN NaN    NaN     NaN    N    N  1.99740  \n",
       "\n",
       "[100000 rows x 27 columns]"
      ]
     },
     "execution_count": 3,
     "metadata": {},
     "output_type": "execute_result"
    }
   ],
   "source": [
    "df = pd.read_csv(\"asteroidTrain.csv\")\n",
    "df\n",
    "#drop\n",
    "#rot_per GM BV UB IR spec_B spec_T \n",
    "\n",
    "\n",
    "#df.info()"
   ]
  },
  {
   "cell_type": "code",
   "execution_count": 4,
   "metadata": {},
   "outputs": [
    {
     "data": {
      "text/plain": [
       "full_name\n",
       "       (1994 VX3)      1\n",
       "179262 (2001 UC157)    1\n",
       "179388 (2001 YK49)     1\n",
       "179386 (2001 YY37)     1\n",
       "179381 (2001 XB258)    1\n",
       "                      ..\n",
       " 51209 (2000 JG14)     1\n",
       " 51205 (2000 JV9)      1\n",
       " 51201 (2000 JG6)      1\n",
       " 51200 (2000 JT5)      1\n",
       "539759 (2016 UO107)    1\n",
       "Length: 100000, dtype: int64"
      ]
     },
     "metadata": {},
     "output_type": "display_data"
    },
    {
     "data": {
      "text/plain": [
       "a         \n",
       "0.626226      1\n",
       "3.030217      1\n",
       "3.030592      1\n",
       "3.030569      1\n",
       "3.030530      1\n",
       "             ..\n",
       "2.605840      1\n",
       "2.605834      1\n",
       "2.605831      1\n",
       "2.605826      1\n",
       "389.145964    1\n",
       "Length: 100000, dtype: int64"
      ]
     },
     "metadata": {},
     "output_type": "display_data"
    },
    {
     "data": {
      "text/plain": [
       "e       \n",
       "0.000489    1\n",
       "0.172402    1\n",
       "0.172437    1\n",
       "0.172433    1\n",
       "0.172433    1\n",
       "           ..\n",
       "0.106758    1\n",
       "0.106755    1\n",
       "0.106754    1\n",
       "0.106754    1\n",
       "0.984348    1\n",
       "Length: 100000, dtype: int64"
      ]
     },
     "metadata": {},
     "output_type": "display_data"
    },
    {
     "data": {
      "text/plain": [
       "G    \n",
       " 0.19    4\n",
       " 0.11    4\n",
       " 0.24    4\n",
       " 0.10    4\n",
       " 0.12    3\n",
       " 0.06    3\n",
       " 0.25    3\n",
       " 0.23    3\n",
       " 0.08    3\n",
       " 0.07    3\n",
       " 0.28    3\n",
       " 0.37    3\n",
       " 0.18    2\n",
       " 0.21    2\n",
       " 0.09    2\n",
       " 0.27    2\n",
       " 0.46    2\n",
       "-0.02    2\n",
       " 0.17    2\n",
       " 0.35    2\n",
       " 0.22    2\n",
       " 0.20    2\n",
       " 0.48    1\n",
       " 0.33    1\n",
       " 0.29    1\n",
       " 0.34    1\n",
       " 0.30    1\n",
       " 0.32    1\n",
       " 0.40    1\n",
       "-0.25    1\n",
       " 0.26    1\n",
       "-0.12    1\n",
       " 0.16    1\n",
       " 0.14    1\n",
       " 0.05    1\n",
       " 0.04    1\n",
       " 0.03    1\n",
       " 0.01    1\n",
       "-0.03    1\n",
       "-0.04    1\n",
       "-0.06    1\n",
       " 0.51    1\n",
       "dtype: int64"
      ]
     },
     "metadata": {},
     "output_type": "display_data"
    },
    {
     "data": {
      "text/plain": [
       "i         \n",
       "0.042710      1\n",
       "12.116157     1\n",
       "12.120973     1\n",
       "12.120901     1\n",
       "12.120872     1\n",
       "             ..\n",
       "6.368631      1\n",
       "6.368352      1\n",
       "6.368317      1\n",
       "6.368192      1\n",
       "170.323647    1\n",
       "Length: 100000, dtype: int64"
      ]
     },
     "metadata": {},
     "output_type": "display_data"
    },
    {
     "data": {
      "text/plain": [
       "om\n",
       "0.000735      1\n",
       "220.664898    1\n",
       "220.739234    1\n",
       "220.730692    1\n",
       "220.728316    1\n",
       "             ..\n",
       "107.969913    1\n",
       "107.968536    1\n",
       "107.966200    1\n",
       "107.965434    1\n",
       "359.990858    1\n",
       "Length: 100000, dtype: int64"
      ]
     },
     "metadata": {},
     "output_type": "display_data"
    },
    {
     "data": {
      "text/plain": [
       "w         \n",
       "0.004466      1\n",
       "243.031602    1\n",
       "243.093413    1\n",
       "243.091989    1\n",
       "243.089551    1\n",
       "             ..\n",
       "121.156081    1\n",
       "121.155648    1\n",
       "121.154666    1\n",
       "121.149463    1\n",
       "359.995174    1\n",
       "Length: 100000, dtype: int64"
      ]
     },
     "metadata": {},
     "output_type": "display_data"
    },
    {
     "data": {
      "text/plain": [
       "q        \n",
       "0.095563     1\n",
       "2.588135     1\n",
       "2.588420     1\n",
       "2.588418     1\n",
       "2.588405     1\n",
       "            ..\n",
       "2.161248     1\n",
       "2.161246     1\n",
       "2.161244     1\n",
       "2.161243     1\n",
       "20.991865    1\n",
       "Length: 100000, dtype: int64"
      ]
     },
     "metadata": {},
     "output_type": "display_data"
    },
    {
     "data": {
      "text/plain": [
       "ad\n",
       "0.999956      1\n",
       "3.363587      1\n",
       "3.363803      1\n",
       "3.363799      1\n",
       "3.363793      1\n",
       "             ..\n",
       "2.965036      1\n",
       "2.965026      1\n",
       "2.965017      1\n",
       "2.964993      1\n",
       "772.201080    1\n",
       "Length: 100000, dtype: int64"
      ]
     },
     "metadata": {},
     "output_type": "display_data"
    },
    {
     "data": {
      "text/plain": [
       "per_y\n",
       "0.495569       1\n",
       "5.274956       1\n",
       "5.275934       1\n",
       "5.275874       1\n",
       "5.275773       1\n",
       "              ..\n",
       "4.206587       1\n",
       "4.206573       1\n",
       "4.206564       1\n",
       "4.206552       1\n",
       "7676.742943    1\n",
       "Length: 100000, dtype: int64"
      ]
     },
     "metadata": {},
     "output_type": "display_data"
    },
    {
     "data": {
      "text/plain": [
       "data_arc\n",
       "1.0        3093\n",
       "2.0        1296\n",
       "7150.0      103\n",
       "5.0          88\n",
       "4.0          80\n",
       "           ... \n",
       "16297.0       1\n",
       "16296.0       1\n",
       "16292.0       1\n",
       "16290.0       1\n",
       "72318.0       1\n",
       "Length: 17508, dtype: int64"
      ]
     },
     "metadata": {},
     "output_type": "display_data"
    },
    {
     "data": {
      "text/plain": [
       "condition_code\n",
       "0.0    93195\n",
       "9.0     4731\n",
       "1.0      977\n",
       "2.0      290\n",
       "5.0      243\n",
       "7.0      141\n",
       "6.0      137\n",
       "3.0      117\n",
       "4.0      117\n",
       "8.0       52\n",
       "dtype: int64"
      ]
     },
     "metadata": {},
     "output_type": "display_data"
    },
    {
     "data": {
      "text/plain": [
       "n_obs_used\n",
       "13      506\n",
       "11      497\n",
       "12      489\n",
       "10      474\n",
       "14      426\n",
       "       ... \n",
       "2817      1\n",
       "2376      1\n",
       "2380      1\n",
       "2383      1\n",
       "8490      1\n",
       "Length: 2977, dtype: int64"
      ]
     },
     "metadata": {},
     "output_type": "display_data"
    },
    {
     "data": {
      "text/plain": [
       "H    \n",
       "15.20    3323\n",
       "15.40    3298\n",
       "15.30    3283\n",
       "15.50    3281\n",
       "15.70    3276\n",
       "         ... \n",
       "10.72       1\n",
       "10.69       1\n",
       "10.66       1\n",
       "10.64       1\n",
       "29.90       1\n",
       "Length: 644, dtype: int64"
      ]
     },
     "metadata": {},
     "output_type": "display_data"
    },
    {
     "data": {
      "text/plain": [
       "diameter\n",
       "2.992                 27\n",
       "2.842                 26\n",
       "4.2860000000000005    26\n",
       "3.263                 26\n",
       "3.122                 25\n",
       "                      ..\n",
       "59.786                 1\n",
       "60.088                 1\n",
       "60.147                 1\n",
       "60.43899999999999      1\n",
       "99.672                 1\n",
       "Length: 23712, dtype: int64"
      ]
     },
     "metadata": {},
     "output_type": "display_data"
    },
    {
     "data": {
      "text/plain": [
       "extent\n",
       "0.535x0.294x0.209        1\n",
       "1.70x2.03x4.26           1\n",
       "18.2x10.5x8.9            1\n",
       "279 x 232 x 189          1\n",
       "34.4x11.2x11.2           1\n",
       "5.0x2.0x2.1              1\n",
       "582x556x500              1\n",
       "59.8x25.4x18.6           1\n",
       "6.6 x 5.0 x 3.4          1\n",
       "964.4 x 964.2 x 891.8    1\n",
       "dtype: int64"
      ]
     },
     "metadata": {},
     "output_type": "display_data"
    },
    {
     "data": {
      "text/plain": [
       "albedo\n",
       "0.0570    1249\n",
       "0.0530    1212\n",
       "0.0550    1206\n",
       "0.0520    1180\n",
       "0.0560    1176\n",
       "          ... \n",
       "0.1987       1\n",
       "0.0539       1\n",
       "0.1966       1\n",
       "0.1907       1\n",
       "0.2477       1\n",
       "Length: 950, dtype: int64"
      ]
     },
     "metadata": {},
     "output_type": "display_data"
    },
    {
     "data": {
      "text/plain": [
       "rot_per\n",
       "12.0000      29\n",
       "24.0000      26\n",
       "10.0000      20\n",
       "20.0000      18\n",
       "8.0000       14\n",
       "             ..\n",
       "6.4680        1\n",
       "6.4580        1\n",
       "6.4571        1\n",
       "6.4570        1\n",
       "1880.0000     1\n",
       "Length: 6280, dtype: int64"
      ]
     },
     "metadata": {},
     "output_type": "display_data"
    },
    {
     "data": {
      "text/plain": [
       "GM\n",
       "2.100000e-09    1\n",
       "4.463000e-04    1\n",
       "2.750000e-03    1\n",
       "4.910000e-01    1\n",
       "1.530000e+00    1\n",
       "5.000000e+00    1\n",
       "7.000000e+00    1\n",
       "1.430000e+01    1\n",
       "6.262840e+01    1\n",
       "dtype: int64"
      ]
     },
     "metadata": {},
     "output_type": "display_data"
    },
    {
     "data": {
      "text/plain": [
       "BV\n",
       "0.720    11\n",
       "0.690     9\n",
       "0.715     9\n",
       "0.850     9\n",
       "0.860     9\n",
       "         ..\n",
       "0.774     1\n",
       "0.773     1\n",
       "0.590     1\n",
       "0.766     1\n",
       "1.077     1\n",
       "Length: 268, dtype: int64"
      ]
     },
     "metadata": {},
     "output_type": "display_data"
    },
    {
     "data": {
      "text/plain": [
       "UB\n",
       "0.390    11\n",
       "0.360    10\n",
       "0.410     9\n",
       "0.425     8\n",
       "0.375     7\n",
       "         ..\n",
       "0.343     1\n",
       "0.339     1\n",
       "0.338     1\n",
       "0.336     1\n",
       "0.655     1\n",
       "Length: 304, dtype: int64"
      ]
     },
     "metadata": {},
     "output_type": "display_data"
    },
    {
     "data": {
      "text/plain": [
       "Series([], dtype: int64)"
      ]
     },
     "metadata": {},
     "output_type": "display_data"
    },
    {
     "data": {
      "text/plain": [
       "spec_B\n",
       "S        274\n",
       "C         94\n",
       "Ch        92\n",
       "X         90\n",
       "Xc        41\n",
       "Sq        39\n",
       "B         37\n",
       "Sl        37\n",
       "Xk        32\n",
       "Cb        27\n",
       "Sa        25\n",
       "L         23\n",
       "V         23\n",
       "Xe        21\n",
       "K         21\n",
       "T         11\n",
       "Cgh       10\n",
       "Sk        10\n",
       "Sr         9\n",
       "D          8\n",
       "Ld         8\n",
       "A          8\n",
       "Cg         6\n",
       "Q          5\n",
       "S:         3\n",
       "R          3\n",
       "S(IV)      1\n",
       "X:         1\n",
       "O          1\n",
       "dtype: int64"
      ]
     },
     "metadata": {},
     "output_type": "display_data"
    },
    {
     "data": {
      "text/plain": [
       "spec_T\n",
       "S         231\n",
       "C         103\n",
       "X          38\n",
       "M          30\n",
       "P          25\n",
       "         ... \n",
       "FCX:        1\n",
       "FC:         1\n",
       "FBCU::      1\n",
       "F:          1\n",
       "XU          1\n",
       "Length: 108, dtype: int64"
      ]
     },
     "metadata": {},
     "output_type": "display_data"
    },
    {
     "data": {
      "text/plain": [
       "neo\n",
       "N    99413\n",
       "Y      587\n",
       "dtype: int64"
      ]
     },
     "metadata": {},
     "output_type": "display_data"
    },
    {
     "data": {
      "text/plain": [
       "pha\n",
       "N    99831\n",
       "Y      169\n",
       "dtype: int64"
      ]
     },
     "metadata": {},
     "output_type": "display_data"
    },
    {
     "data": {
      "text/plain": [
       "moid\n",
       "1.75659     7\n",
       "1.20470     7\n",
       "1.18808     7\n",
       "1.60139     6\n",
       "2.05754     6\n",
       "           ..\n",
       "1.14207     1\n",
       "1.14208     1\n",
       "1.14209     1\n",
       "1.14210     1\n",
       "20.11250    1\n",
       "Length: 75328, dtype: int64"
      ]
     },
     "metadata": {},
     "output_type": "display_data"
    }
   ],
   "source": [
    "#Revisar que tipos de datos tiene cada variable\n",
    "for i in df.columns:\n",
    "    display(df.value_counts(i))"
   ]
  },
  {
   "cell_type": "code",
   "execution_count": 7,
   "metadata": {},
   "outputs": [],
   "source": [
    "#Asteroides con todos los datos nulos\n",
    "df.isna().any(axis=1).value_counts()"
   ]
  },
  {
   "cell_type": "code",
   "execution_count": 8,
   "metadata": {},
   "outputs": [
    {
     "data": {
      "text/plain": [
       "True    100000\n",
       "dtype: int64"
      ]
     },
     "execution_count": 8,
     "metadata": {},
     "output_type": "execute_result"
    }
   ],
   "source": [
    "df"
   ]
  }
 ],
 "metadata": {
  "kernelspec": {
   "display_name": "Python 3.10.4 64-bit",
   "language": "python",
   "name": "python3"
  },
  "language_info": {
   "codemirror_mode": {
    "name": "ipython",
    "version": 3
   },
   "file_extension": ".py",
   "mimetype": "text/x-python",
   "name": "python",
   "nbconvert_exporter": "python",
   "pygments_lexer": "ipython3",
   "version": "3.10.4"
  },
  "vscode": {
   "interpreter": {
    "hash": "9cab696a8cc852ec6542f46a607bbe847f38da59b30dfa8341fe0bc17ad0c6e5"
   }
  }
 },
 "nbformat": 4,
 "nbformat_minor": 4
}
